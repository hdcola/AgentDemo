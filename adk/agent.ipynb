{
 "cells": [
  {
   "cell_type": "markdown",
   "id": "cb01b660",
   "metadata": {},
   "source": [
    "# Agent Development Kit\n",
    "\n",
    "## Install dependencies\n"
   ]
  },
  {
   "cell_type": "code",
   "execution_count": 1,
   "id": "c010e269",
   "metadata": {},
   "outputs": [
    {
     "name": "stdout",
     "output_type": "stream",
     "text": [
      "Note: you may need to restart the kernel to use updated packages.\n"
     ]
    }
   ],
   "source": [
    "%pip install -qU google-adk"
   ]
  },
  {
   "cell_type": "markdown",
   "id": "d03803d2",
   "metadata": {},
   "source": [
    "If you want to use the ollama or OpenAI APIs, you can use `litellm` for support. Similarly, we can use `mcp` and `mcp-server-fetch` to support mcp calls."
   ]
  },
  {
   "cell_type": "code",
   "execution_count": 1,
   "id": "6b39ebe8",
   "metadata": {},
   "outputs": [
    {
     "name": "stdout",
     "output_type": "stream",
     "text": [
      "Note: you may need to restart the kernel to use updated packages.\n",
      "Note: you may need to restart the kernel to use updated packages.\n"
     ]
    }
   ],
   "source": [
    "%pip install -qU litellm\n",
    "%pip install -qU mcp mcp-server-fetch"
   ]
  },
  {
   "cell_type": "markdown",
   "id": "e76c80a4",
   "metadata": {},
   "source": [
    "## Use Other LLM API\n",
    "\n",
    "### ollama\n",
    "\n",
    "Base [reference](https://docs.litellm.ai/docs/providers/ollama) for ollama API.\n",
    "\n",
    "```bash"
   ]
  },
  {
   "cell_type": "code",
   "execution_count": null,
   "id": "d4aea369",
   "metadata": {},
   "outputs": [],
   "source": [
    "from google.adk.agents import LlmAgent\n",
    "from google.adk.models.lite_llm import LiteLlm\n",
    "\n",
    "root_agent = LlmAgent(\n",
    "    model=LiteLlm(model=\"ollama/gemma3:12b\"),  # Correct format for Ollama models\n",
    "    name=\"helpful_agent\",\n",
    "    description=(\n",
    "        \"a helpful assistant.\"\n",
    "    ),\n",
    "    instruction=(\n",
    "        \"You are a helpful assistant\"\n",
    "    ),\n",
    ")"
   ]
  }
 ],
 "metadata": {
  "kernelspec": {
   "display_name": ".venv",
   "language": "python",
   "name": "python3"
  },
  "language_info": {
   "codemirror_mode": {
    "name": "ipython",
    "version": 3
   },
   "file_extension": ".py",
   "mimetype": "text/x-python",
   "name": "python",
   "nbconvert_exporter": "python",
   "pygments_lexer": "ipython3",
   "version": "3.12.8"
  }
 },
 "nbformat": 4,
 "nbformat_minor": 5
}
