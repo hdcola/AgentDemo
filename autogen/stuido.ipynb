{
 "cells": [
  {
   "cell_type": "markdown",
   "id": "15bb9c2c",
   "metadata": {},
   "source": [
    "# AutoGen Studio\n",
    "\n",
    "AutoGen Studio is a low-code interface built to help you rapidly prototype AI agents, enhance them with tools, compose them into teams and interact with them to accomplish tasks. It is built on AutoGen AgentChat - a high-level API for building multi-agent applications.\n",
    "\n",
    "## Installation"
   ]
  },
  {
   "cell_type": "code",
   "execution_count": 3,
   "id": "3868b712",
   "metadata": {},
   "outputs": [
    {
     "name": "stdout",
     "output_type": "stream",
     "text": [
      "Note: you may need to restart the kernel to use updated packages.\n"
     ]
    }
   ],
   "source": [
    "%pip install -qU autogenstudio"
   ]
  },
  {
   "cell_type": "markdown",
   "id": "2e4266a6",
   "metadata": {},
   "source": [
    "## Running the Application"
   ]
  },
  {
   "cell_type": "code",
   "execution_count": 6,
   "id": "d8dc8273",
   "metadata": {},
   "outputs": [
    {
     "name": "stdout",
     "output_type": "stream",
     "text": [
      "\u001b[32mINFO\u001b[0m:     Loading environment from '/Users/hd/.autogenstudio/temp_env_vars.env'\n",
      "\u001b[32m2025-04-08 08:26:39.858\u001b[0m | \u001b[1mINFO    \u001b[0m | \u001b[36mautogenstudio.web.initialization\u001b[0m:\u001b[36m__init__\u001b[0m:\u001b[36m40\u001b[0m - \u001b[1mInitializing application data folder: /Users/hd/.autogenstudio \u001b[0m\n",
      "\u001b[32m2025-04-08 08:26:39.858\u001b[0m | \u001b[1mINFO    \u001b[0m | \u001b[36mautogenstudio.web.auth.manager\u001b[0m:\u001b[36m__init__\u001b[0m:\u001b[36m26\u001b[0m - \u001b[1mInitialized auth manager with provider: none\u001b[0m\n",
      "\u001b[32mINFO\u001b[0m:     Started server process [\u001b[36m37981\u001b[0m]\n",
      "\u001b[32mINFO\u001b[0m:     Waiting for application startup.\n",
      "\u001b[32m2025-04-08 08:26:39.868\u001b[0m | \u001b[1mINFO    \u001b[0m | \u001b[36mautogenstudio.database.db_manager\u001b[0m:\u001b[36minitialize_database\u001b[0m:\u001b[36m83\u001b[0m - \u001b[1mChecking database schema...\u001b[0m\n",
      "\u001b[32m2025-04-08 08:26:39.868\u001b[0m | \u001b[1mINFO    \u001b[0m | \u001b[36mautogenstudio.database.schema_manager\u001b[0m:\u001b[36mensure_schema_up_to_date\u001b[0m:\u001b[36m522\u001b[0m - \u001b[1mResetting migrations and updating to current schema...\u001b[0m\n",
      "\u001b[32m2025-04-08 08:26:39.869\u001b[0m | \u001b[1mINFO    \u001b[0m | \u001b[36mautogenstudio.database.schema_manager\u001b[0m:\u001b[36mensure_schema_up_to_date\u001b[0m:\u001b[36m527\u001b[0m - \u001b[1mCleared alembic directory\u001b[0m\n",
      "\u001b[32m2025-04-08 08:26:39.870\u001b[0m | \u001b[1mINFO    \u001b[0m | \u001b[36mautogenstudio.database.schema_manager\u001b[0m:\u001b[36mensure_schema_up_to_date\u001b[0m:\u001b[36m533\u001b[0m - \u001b[1mReset alembic version\u001b[0m\n",
      "\u001b[32m2025-04-08 08:26:39.871\u001b[0m | \u001b[1mINFO    \u001b[0m | \u001b[36mautogenstudio.database.schema_manager\u001b[0m:\u001b[36m_initialize_alembic\u001b[0m:\u001b[36m133\u001b[0m - \u001b[1mAlembic initialization complete\u001b[0m\n",
      "INFO  [alembic.runtime.migration] Context impl SQLiteImpl.\n",
      "INFO  [alembic.runtime.migration] Will assume non-transactional DDL.\n",
      "\u001b[32m2025-04-08 08:26:39.882\u001b[0m | \u001b[1mINFO    \u001b[0m | \u001b[36mautogenstudio.database.schema_manager\u001b[0m:\u001b[36mensure_schema_up_to_date\u001b[0m:\u001b[36m545\u001b[0m - \u001b[1mGenerated fresh migration: 9584183b4b1b\u001b[0m\n",
      "INFO  [alembic.runtime.migration] Context impl SQLiteImpl.\n",
      "INFO  [alembic.runtime.migration] Will assume non-transactional DDL.\n",
      "INFO  [alembic.runtime.migration] Running upgrade  -> 9584183b4b1b, current_schema\n",
      "\u001b[32m2025-04-08 08:26:39.885\u001b[0m | \u001b[1mINFO    \u001b[0m | \u001b[36mautogenstudio.database.schema_manager\u001b[0m:\u001b[36mupgrade_schema\u001b[0m:\u001b[36m430\u001b[0m - \u001b[1mSchema upgraded successfully to head\u001b[0m\n",
      "\u001b[32m2025-04-08 08:26:39.885\u001b[0m | \u001b[1mINFO    \u001b[0m | \u001b[36mautogenstudio.database.schema_manager\u001b[0m:\u001b[36mensure_schema_up_to_date\u001b[0m:\u001b[36m551\u001b[0m - \u001b[1mSuccessfully applied migration\u001b[0m\n",
      "\u001b[32m2025-04-08 08:26:39.885\u001b[0m | \u001b[1mINFO    \u001b[0m | \u001b[36mautogenstudio.web.app\u001b[0m:\u001b[36mlifespan\u001b[0m:\u001b[36m39\u001b[0m - \u001b[1mApplication startup complete. Navigate to http://127.0.0.1:8081\u001b[0m\n",
      "/Users/hd/work/prj/AgentDemo/.venv/lib/python3.12/site-packages/autogen_core/_component_config.py:252: UserWarning: \n",
      "⚠️  SECURITY WARNING ⚠️\n",
      "Loading a FunctionTool from config will execute code to import the provided global imports and and function code.\n",
      "Only load configs from TRUSTED sources to prevent arbitrary code execution.\n",
      "  instance = component_class._from_config(validated_config)  # type: ignore\n",
      "\u001b[32m2025-04-08 08:35:05.481\u001b[0m | \u001b[1mINFO    \u001b[0m | \u001b[36mautogenstudio.web.routes.ws\u001b[0m:\u001b[36mrun_websocket\u001b[0m:\u001b[36m91\u001b[0m - \u001b[1mWebSocket connection established for run 1\u001b[0m\n",
      "\u001b[32m2025-04-08 08:35:05.488\u001b[0m | \u001b[1mINFO    \u001b[0m | \u001b[36mautogenstudio.web.routes.ws\u001b[0m:\u001b[36mrun_websocket\u001b[0m:\u001b[36m100\u001b[0m - \u001b[1mReceived start request for run 1\u001b[0m\n",
      "\u001b[32m2025-04-08 08:36:08.637\u001b[0m | \u001b[1mINFO    \u001b[0m | \u001b[36mautogenstudio.web.routes.ws\u001b[0m:\u001b[36mrun_websocket\u001b[0m:\u001b[36m140\u001b[0m - \u001b[1mWebSocket disconnected for run 1\u001b[0m\n",
      "\u001b[32m2025-04-08 08:36:46.837\u001b[0m | \u001b[1mINFO    \u001b[0m | \u001b[36mautogenstudio.web.routes.ws\u001b[0m:\u001b[36mrun_websocket\u001b[0m:\u001b[36m91\u001b[0m - \u001b[1mWebSocket connection established for run 2\u001b[0m\n",
      "\u001b[32m2025-04-08 08:36:46.839\u001b[0m | \u001b[1mINFO    \u001b[0m | \u001b[36mautogenstudio.web.routes.ws\u001b[0m:\u001b[36mrun_websocket\u001b[0m:\u001b[36m100\u001b[0m - \u001b[1mReceived start request for run 2\u001b[0m\n",
      "/Users/hd/work/prj/AgentDemo/.venv/lib/python3.12/site-packages/autogen_agentchat/agents/_assistant_agent.py:870: UserWarning: Finish reason mismatch: stop != tool_calls when tool_calls are present. Finish reason may not be accurate. This may be due to the API used that is not returning the correct finish reason.\n",
      "  model_result = await model_client.create(\n",
      "\u001b[32m2025-04-08 08:37:18.095\u001b[0m | \u001b[1mINFO    \u001b[0m | \u001b[36mautogenstudio.web.routes.ws\u001b[0m:\u001b[36mrun_websocket\u001b[0m:\u001b[36m140\u001b[0m - \u001b[1mWebSocket disconnected for run 2\u001b[0m\n",
      "\u001b[32m2025-04-08 08:37:43.674\u001b[0m | \u001b[1mINFO    \u001b[0m | \u001b[36mautogenstudio.web.routes.ws\u001b[0m:\u001b[36mrun_websocket\u001b[0m:\u001b[36m91\u001b[0m - \u001b[1mWebSocket connection established for run 3\u001b[0m\n",
      "\u001b[32m2025-04-08 08:37:43.676\u001b[0m | \u001b[1mINFO    \u001b[0m | \u001b[36mautogenstudio.web.routes.ws\u001b[0m:\u001b[36mrun_websocket\u001b[0m:\u001b[36m100\u001b[0m - \u001b[1mReceived start request for run 3\u001b[0m\n",
      "\u001b[32m2025-04-08 08:38:35.471\u001b[0m | \u001b[1mINFO    \u001b[0m | \u001b[36mautogenstudio.web.routes.ws\u001b[0m:\u001b[36mrun_websocket\u001b[0m:\u001b[36m140\u001b[0m - \u001b[1mWebSocket disconnected for run 3\u001b[0m\n",
      "\u001b[32m2025-04-08 08:38:35.493\u001b[0m | \u001b[1mINFO    \u001b[0m | \u001b[36mautogenstudio.web.routes.ws\u001b[0m:\u001b[36mrun_websocket\u001b[0m:\u001b[36m91\u001b[0m - \u001b[1mWebSocket connection established for run 4\u001b[0m\n",
      "\u001b[32m2025-04-08 08:38:35.498\u001b[0m | \u001b[1mINFO    \u001b[0m | \u001b[36mautogenstudio.web.routes.ws\u001b[0m:\u001b[36mrun_websocket\u001b[0m:\u001b[36m100\u001b[0m - \u001b[1mReceived start request for run 4\u001b[0m\n",
      "\u001b[32m2025-04-08 08:38:42.134\u001b[0m | \u001b[1mINFO    \u001b[0m | \u001b[36mautogenstudio.web.routes.ws\u001b[0m:\u001b[36mrun_websocket\u001b[0m:\u001b[36m140\u001b[0m - \u001b[1mWebSocket disconnected for run 4\u001b[0m\n",
      "^C\n"
     ]
    }
   ],
   "source": [
    "!autogenstudio ui --port 8081"
   ]
  }
 ],
 "metadata": {
  "kernelspec": {
   "display_name": ".venv",
   "language": "python",
   "name": "python3"
  },
  "language_info": {
   "codemirror_mode": {
    "name": "ipython",
    "version": 3
   },
   "file_extension": ".py",
   "mimetype": "text/x-python",
   "name": "python",
   "nbconvert_exporter": "python",
   "pygments_lexer": "ipython3",
   "version": "3.12.8"
  }
 },
 "nbformat": 4,
 "nbformat_minor": 5
}
