{
 "cells": [
  {
   "cell_type": "markdown",
   "id": "d8675105",
   "metadata": {},
   "source": [
    "# Teams\n",
    "\n",
    "A team is a group of agents that work together to achieve a common goal.\n",
    "\n",
    "## RoundRobinGroupChat\n",
    "\n",
    "A team that runs a group chat with participants taking turns in a round-robin fashion.\n",
    "\n",
    "### Creating a Team"
   ]
  },
  {
   "cell_type": "code",
   "execution_count": 4,
   "id": "a47e8a4a",
   "metadata": {},
   "outputs": [],
   "source": [
    "import os\n",
    "from dotenv import load_dotenv\n",
    "from getpass import getpass\n",
    "\n",
    "# Load environment variables from .env file\n",
    "load_dotenv()\n",
    "\n",
    "# Get API base URL and model with default values\n",
    "OPENAI_API_BASE = os.getenv(\"OPENAI_API_BASE\", \"https://api.openai.com/v1\")\n",
    "OPENAI_MODEL = os.getenv(\"OPENAI_MODEL\", \"gpt-4o\")\n",
    "\n",
    "# Set up OpenAI API configuration\n",
    "# Try to get API key from environment variables\n",
    "OPENAI_API_KEY = os.getenv(\"OPENAI_API_KEY\")\n",
    "# If not found, ask user to input it\n",
    "if not OPENAI_API_KEY:\n",
    "    OPENAI_API_KEY = getpass(\"Enter your OpenAI API key:\")\n",
    "\n",
    "OPENAI_MODEL\n",
    "\n",
    "from autogen_ext.models.openai import OpenAIChatCompletionClient\n",
    "from autogen_ext.models.ollama import OllamaChatCompletionClient\n",
    "from autogen_core.models import UserMessage\n",
    "\n",
    "# client = OpenAIChatCompletionClient(\n",
    "#     model=OPENAI_MODEL,\n",
    "#     api_key=OPENAI_API_KEY,\n",
    "#     base_url=OPENAI_API_BASE,\n",
    "# )\n",
    "\n",
    "client = OllamaChatCompletionClient(\n",
    "    model=OPENAI_MODEL\n",
    ")"
   ]
  },
  {
   "cell_type": "code",
   "execution_count": 8,
   "id": "32a07240",
   "metadata": {},
   "outputs": [],
   "source": [
    "from autogen_agentchat.agents import AssistantAgent\n",
    "from autogen_agentchat.base import TaskResult\n",
    "from autogen_agentchat.conditions import ExternalTermination, TextMentionTermination\n",
    "from autogen_agentchat.teams import RoundRobinGroupChat\n",
    "from autogen_agentchat.ui import Console\n",
    "from autogen_core import CancellationToken\n",
    "from autogen_ext.models.openai import OpenAIChatCompletionClient\n",
    "\n",
    "def add_tool(x: float, y: float) -> float:\n",
    "    \"\"\"\n",
    "    Add X and Y to get the exact result.\n",
    "\n",
    "    Args:\n",
    "        x (float): First number.\n",
    "        y (float): Second number.\n",
    "\n",
    "    Returns:\n",
    "        float: The sum of X and Y.\n",
    "    \"\"\"\n",
    "    return x + y\n",
    "\n",
    "def subtract_tool(x: float, y: float) -> str:\n",
    "    \"\"\"\n",
    "    Subtract Y from X to get the exact result.\n",
    "\n",
    "    Args:\n",
    "        x (float): First number.\n",
    "        y (float): Second number.\n",
    "\n",
    "    Returns:\n",
    "        str: The difference of X and Y.\n",
    "    \"\"\"\n",
    "    return str(x - y)\n",
    "\n",
    "def multiply_tool(x: float, y: float) -> str:\n",
    "    \"\"\"\n",
    "    Multiply X and Y to get the exact result.\n",
    "\n",
    "    Args:\n",
    "        x (float): First number.\n",
    "        y (float): Second number.\n",
    "\n",
    "    Returns:\n",
    "        str: The product of X and Y.\n",
    "    \"\"\"\n",
    "    return str(x * y)\n",
    "\n",
    "def divide_tool(x: float, y: float) -> str:\n",
    "    \"\"\"\n",
    "    Divide X by Y to get the exact result.\n",
    "\n",
    "    Args:\n",
    "        x (float): First number.\n",
    "        y (float): Second number.\n",
    "\n",
    "    Returns:\n",
    "        str: The quotient of X and Y.\n",
    "    \"\"\"\n",
    "    return str(x / y)\n",
    "\n",
    "# Create the primary agent.\n",
    "primary_agent = AssistantAgent(\n",
    "    \"primary\",\n",
    "    model_client=client,\n",
    "    tools=[\n",
    "        add_tool,\n",
    "        subtract_tool,\n",
    "        multiply_tool,\n",
    "        divide_tool,\n",
    "    ],\n",
    "    system_message=\"You are a helpful AI assistant.\",\n",
    ")\n",
    "\n",
    "# Create the critic agent.\n",
    "critic_agent = AssistantAgent(\n",
    "    \"critic\",\n",
    "    model_client=client,\n",
    "    system_message=\"Provide constructive feedback. Respond with 'APPROVE' to when your feedbacks are addressed.\",\n",
    ")\n",
    "\n",
    "# Define a termination condition that stops the task if the critic approves.\n",
    "text_termination = TextMentionTermination(\"APPROVE\")\n",
    "\n",
    "# Create a team with the primary and critic agents.\n",
    "team = RoundRobinGroupChat([primary_agent, critic_agent], termination_condition=text_termination)"
   ]
  },
  {
   "cell_type": "markdown",
   "id": "255fb964",
   "metadata": {},
   "source": [
    "### Run a Team"
   ]
  },
  {
   "cell_type": "code",
   "execution_count": null,
   "id": "d2e2f879",
   "metadata": {},
   "outputs": [],
   "source": []
  },
  {
   "cell_type": "code",
   "execution_count": null,
   "id": "d1a615ca",
   "metadata": {},
   "outputs": [
    {
     "name": "stdout",
     "output_type": "stream",
     "text": [
      "TaskResult(messages=[TextMessage(source='user', models_usage=None, metadata={}, content='What is 1.33+2.97*3.22?', type='TextMessage'), ToolCallRequestEvent(source='primary', models_usage=RequestUsage(prompt_tokens=649, completion_tokens=29), metadata={}, content=[FunctionCall(id='1', arguments='{\"x\": 2.97, \"y\": 3.22}', name='multiply_tool')], type='ToolCallRequestEvent'), ToolCallExecutionEvent(source='primary', models_usage=None, metadata={}, content=[FunctionExecutionResult(content='9.563400000000001', name='multiply_tool', call_id='1', is_error=False)], type='ToolCallExecutionEvent'), ToolCallSummaryMessage(source='primary', models_usage=None, metadata={}, content='9.563400000000001', type='ToolCallSummaryMessage'), TextMessage(source='critic', models_usage=RequestUsage(prompt_tokens=134, completion_tokens=137), metadata={}, content='To solve the expression \\\\(1.33 + 2.97 \\\\times 3.22\\\\), we need to follow the order of operations (PEMDAS/BODMAS). First, perform the multiplication:\\n\\n\\\\[2.97 \\\\times 3.22 = 9.5634\\\\]\\n\\nNext, add this result to 1.33:\\n\\n\\\\[1.33 + 9.5634 = 10.8934\\\\]\\n\\nSo, the correct result is \\\\(10.8934\\\\).\\n\\nIs this the value you were expecting? APPROVE once the feedback is addressed.', type='TextMessage')], stop_reason=\"Text 'APPROVE' mentioned\")\n"
     ]
    }
   ],
   "source": [
    "result = await team.run(task=\"What is 1.33+2.97*3.22?\")\n",
    "print(result)"
   ]
  },
  {
   "cell_type": "markdown",
   "id": "3def5810",
   "metadata": {},
   "source": [
    "### Observing a Team"
   ]
  },
  {
   "cell_type": "code",
   "execution_count": 11,
   "id": "6427e304",
   "metadata": {},
   "outputs": [
    {
     "name": "stdout",
     "output_type": "stream",
     "text": [
      "source='user' models_usage=None metadata={} content='What is 1.33+2.97*3.22?' type='TextMessage'\n",
      "source='primary' models_usage=RequestUsage(prompt_tokens=547, completion_tokens=66) metadata={} content=[FunctionCall(id='2', arguments='{\"x\": 2.97, \"y\": 3.22}', name='multiply_tool'), FunctionCall(id='2', arguments='{\"x\": 1.33, \"y\": 9.5634}', name='add_tool')] type='ToolCallRequestEvent'\n",
      "source='primary' models_usage=None metadata={} content=[FunctionExecutionResult(content='9.563400000000001', name='multiply_tool', call_id='2', is_error=False), FunctionExecutionResult(content='10.8934', name='add_tool', call_id='2', is_error=False)] type='ToolCallExecutionEvent'\n",
      "source='primary' models_usage=None metadata={} content='9.563400000000001\\n10.8934' type='ToolCallSummaryMessage'\n",
      "source='critic' models_usage=RequestUsage(prompt_tokens=75, completion_tokens=104) metadata={} content='The correct calculation for 1.33 + 2.97 * 3.22 is:\\n\\nFirst, multiply 2.97 by 3.22, which equals approximately 9.5634.\\n\\nThen, add 1.33 to 9.5634, resulting in approximately 10.8934.\\n\\nSo the correct answer is **10.8934**.\\n\\nAPPROVE when you agree with this calculation.' type='TextMessage'\n",
      "Stop Reason: Text 'APPROVE' mentioned\n"
     ]
    }
   ],
   "source": [
    "await team.reset() # Reset the team for the new task.\n",
    "async for message in team.run_stream(task=\"What is 1.33+2.97*3.22?\"):\n",
    "    if isinstance(message, TaskResult):\n",
    "        print(\"Stop Reason:\", message.stop_reason)\n",
    "    else:\n",
    "        print(message)"
   ]
  },
  {
   "cell_type": "code",
   "execution_count": 15,
   "id": "6eeb0cf9",
   "metadata": {},
   "outputs": [
    {
     "name": "stdout",
     "output_type": "stream",
     "text": [
      "---------- user ----------\n",
      "What is (1.33+2.97)^3.22?\n",
      "---------- primary ----------\n",
      "[FunctionCall(id='4', arguments='{\"x\": 1.33, \"y\": 2.97}', name='add_tool')]\n",
      "---------- primary ----------\n",
      "[FunctionExecutionResult(content='4.300000000000001', name='add_tool', call_id='4', is_error=False)]\n",
      "---------- primary ----------\n",
      "4.300000000000001\n",
      "---------- critic ----------\n",
      "Your calculation seems a bit off. Let's break it down:\n",
      "\n",
      "First, calculate the sum inside the parentheses: \\(1.33 + 2.97 = 4.30\\).\n",
      "\n",
      "Next, raise this result to the power of 3.22: \\(4.30^{3.22} \\approx 86.945\\).\n",
      "\n",
      "So, the correct answer is approximately 86.945, not 4.300000000000001. Please check your exponentiation process. APPROVE once you've verified this calculation.\n"
     ]
    },
    {
     "data": {
      "text/plain": [
       "TaskResult(messages=[TextMessage(source='user', models_usage=None, metadata={}, content='What is (1.33+2.97)^3.22?', type='TextMessage'), ToolCallRequestEvent(source='primary', models_usage=RequestUsage(prompt_tokens=547, completion_tokens=138), metadata={}, content=[FunctionCall(id='4', arguments='{\"x\": 1.33, \"y\": 2.97}', name='add_tool')], type='ToolCallRequestEvent'), ToolCallExecutionEvent(source='primary', models_usage=None, metadata={}, content=[FunctionExecutionResult(content='4.300000000000001', name='add_tool', call_id='4', is_error=False)], type='ToolCallExecutionEvent'), ToolCallSummaryMessage(source='primary', models_usage=None, metadata={}, content='4.300000000000001', type='ToolCallSummaryMessage'), TextMessage(source='critic', models_usage=RequestUsage(prompt_tokens=67, completion_tokens=130), metadata={}, content=\"Your calculation seems a bit off. Let's break it down:\\n\\nFirst, calculate the sum inside the parentheses: \\\\(1.33 + 2.97 = 4.30\\\\).\\n\\nNext, raise this result to the power of 3.22: \\\\(4.30^{3.22} \\\\approx 86.945\\\\).\\n\\nSo, the correct answer is approximately 86.945, not 4.300000000000001. Please check your exponentiation process. APPROVE once you've verified this calculation.\", type='TextMessage')], stop_reason=\"Text 'APPROVE' mentioned\")"
      ]
     },
     "execution_count": 15,
     "metadata": {},
     "output_type": "execute_result"
    }
   ],
   "source": [
    "await team.reset()\n",
    "await Console(team.run_stream(task=\"What is (1.33+2.97)^3.22?\"))"
   ]
  },
  {
   "cell_type": "markdown",
   "id": "731f88fc",
   "metadata": {},
   "source": [
    "### Stopping a Team\n",
    "\n"
   ]
  }
 ],
 "metadata": {
  "kernelspec": {
   "display_name": ".venv",
   "language": "python",
   "name": "python3"
  },
  "language_info": {
   "codemirror_mode": {
    "name": "ipython",
    "version": 3
   },
   "file_extension": ".py",
   "mimetype": "text/x-python",
   "name": "python",
   "nbconvert_exporter": "python",
   "pygments_lexer": "ipython3",
   "version": "3.12.8"
  }
 },
 "nbformat": 4,
 "nbformat_minor": 5
}
