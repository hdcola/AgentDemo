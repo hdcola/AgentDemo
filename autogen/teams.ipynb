{
 "cells": [
  {
   "cell_type": "markdown",
   "id": "d8675105",
   "metadata": {},
   "source": [
    "# Teams\n",
    "\n",
    "A team is a group of agents that work together to achieve a common goal.\n",
    "\n",
    "## RoundRobinGroupChat\n",
    "\n",
    "A team that runs a group chat with participants taking turns in a round-robin fashion.\n",
    "\n",
    "### Creating a Team"
   ]
  },
  {
   "cell_type": "code",
   "execution_count": 1,
   "id": "a47e8a4a",
   "metadata": {},
   "outputs": [],
   "source": [
    "import os\n",
    "from dotenv import load_dotenv\n",
    "from getpass import getpass\n",
    "\n",
    "# Load environment variables from .env file\n",
    "load_dotenv()\n",
    "\n",
    "# Get API base URL and model with default values\n",
    "OPENAI_API_BASE = os.getenv(\"OPENAI_API_BASE\", \"https://api.openai.com/v1\")\n",
    "OPENAI_MODEL = os.getenv(\"OPENAI_MODEL\", \"gpt-4o\")\n",
    "\n",
    "# Set up OpenAI API configuration\n",
    "# Try to get API key from environment variables\n",
    "OPENAI_API_KEY = os.getenv(\"OPENAI_API_KEY\")\n",
    "# If not found, ask user to input it\n",
    "if not OPENAI_API_KEY:\n",
    "    OPENAI_API_KEY = getpass(\"Enter your OpenAI API key:\")\n",
    "\n",
    "OPENAI_MODEL\n",
    "\n",
    "from autogen_ext.models.openai import OpenAIChatCompletionClient\n",
    "from autogen_ext.models.ollama import OllamaChatCompletionClient\n",
    "from autogen_core.models import UserMessage\n",
    "\n",
    "# client = OpenAIChatCompletionClient(\n",
    "#     model=OPENAI_MODEL,\n",
    "#     api_key=OPENAI_API_KEY,\n",
    "#     base_url=OPENAI_API_BASE,\n",
    "# )\n",
    "\n",
    "client = OllamaChatCompletionClient(\n",
    "    model=OPENAI_MODEL\n",
    ")"
   ]
  },
  {
   "cell_type": "code",
   "execution_count": 2,
   "id": "32a07240",
   "metadata": {},
   "outputs": [],
   "source": [
    "from autogen_agentchat.agents import AssistantAgent\n",
    "from autogen_agentchat.base import TaskResult\n",
    "from autogen_agentchat.conditions import ExternalTermination, TextMentionTermination\n",
    "from autogen_agentchat.teams import RoundRobinGroupChat\n",
    "from autogen_agentchat.ui import Console\n",
    "from autogen_core import CancellationToken\n",
    "from autogen_ext.models.openai import OpenAIChatCompletionClient\n",
    "\n",
    "def add_tool(x: float, y: float) -> float:\n",
    "    \"\"\"\n",
    "    Add X and Y to get the exact result.\n",
    "\n",
    "    Args:\n",
    "        x (float): First number.\n",
    "        y (float): Second number.\n",
    "\n",
    "    Returns:\n",
    "        float: The sum of X and Y.\n",
    "    \"\"\"\n",
    "    return x + y\n",
    "\n",
    "def subtract_tool(x: float, y: float) -> str:\n",
    "    \"\"\"\n",
    "    Subtract Y from X to get the exact result.\n",
    "\n",
    "    Args:\n",
    "        x (float): First number.\n",
    "        y (float): Second number.\n",
    "\n",
    "    Returns:\n",
    "        str: The difference of X and Y.\n",
    "    \"\"\"\n",
    "    return str(x - y)\n",
    "\n",
    "def multiply_tool(x: float, y: float) -> str:\n",
    "    \"\"\"\n",
    "    Multiply X and Y to get the exact result.\n",
    "\n",
    "    Args:\n",
    "        x (float): First number.\n",
    "        y (float): Second number.\n",
    "\n",
    "    Returns:\n",
    "        str: The product of X and Y.\n",
    "    \"\"\"\n",
    "    return str(x * y)\n",
    "\n",
    "def divide_tool(x: float, y: float) -> str:\n",
    "    \"\"\"\n",
    "    Divide X by Y to get the exact result.\n",
    "\n",
    "    Args:\n",
    "        x (float): First number.\n",
    "        y (float): Second number.\n",
    "\n",
    "    Returns:\n",
    "        str: The quotient of X and Y.\n",
    "    \"\"\"\n",
    "    return str(x / y)\n",
    "\n",
    "# Create the primary agent.\n",
    "primary_agent = AssistantAgent(\n",
    "    \"primary\",\n",
    "    model_client=client,\n",
    "    tools=[\n",
    "        add_tool,\n",
    "        subtract_tool,\n",
    "        multiply_tool,\n",
    "        divide_tool,\n",
    "    ],\n",
    "    system_message=\"You are a helpful AI assistant.\",\n",
    ")\n",
    "\n",
    "# Create the critic agent.\n",
    "critic_agent = AssistantAgent(\n",
    "    \"critic\",\n",
    "    model_client=client,\n",
    "    system_message=\"Provide constructive feedback. Respond with 'APPROVE' to when your feedbacks are addressed.\",\n",
    ")\n",
    "\n",
    "# Define a termination condition that stops the task if the critic approves.\n",
    "text_termination = TextMentionTermination(\"APPROVE\")\n",
    "\n",
    "# Create a team with the primary and critic agents.\n",
    "team = RoundRobinGroupChat([primary_agent, critic_agent], termination_condition=text_termination)"
   ]
  },
  {
   "cell_type": "markdown",
   "id": "255fb964",
   "metadata": {},
   "source": [
    "### Run a Team"
   ]
  },
  {
   "cell_type": "code",
   "execution_count": 3,
   "id": "d1a615ca",
   "metadata": {},
   "outputs": [
    {
     "name": "stdout",
     "output_type": "stream",
     "text": [
      "TaskResult(messages=[TextMessage(source='user', models_usage=None, metadata={}, content='What is 1.33+2.97*3.22?', type='TextMessage'), ToolCallRequestEvent(source='primary', models_usage=RequestUsage(prompt_tokens=547, completion_tokens=102), metadata={}, content=[FunctionCall(id='0', arguments='{\"x\": 2.97, \"y\": 3.22}', name='multiply_tool')], type='ToolCallRequestEvent'), ToolCallExecutionEvent(source='primary', models_usage=None, metadata={}, content=[FunctionExecutionResult(content='9.563400000000001', name='multiply_tool', call_id='0', is_error=False)], type='ToolCallExecutionEvent'), ToolCallSummaryMessage(source='primary', models_usage=None, metadata={}, content='9.563400000000001', type='ToolCallSummaryMessage'), TextMessage(source='critic', models_usage=RequestUsage(prompt_tokens=67, completion_tokens=141), metadata={}, content=\"The correct calculation for 1.33 + 2.97 * 3.22 should follow the order of operations (PEMDAS/BODMAS), so you first multiply 2.97 by 3.22, and then add 1.33 to the result.\\n\\n2.97 * 3.22 = 9.5634\\n\\nThen,\\n\\n1.33 + 9.5634 = 10.8934\\n\\nSo, the correct answer is 10.8934. \\n\\nPlease verify your calculations with this in mind. APPROVE once you've addressed this feedback.\", type='TextMessage')], stop_reason=\"Text 'APPROVE' mentioned\")\n"
     ]
    }
   ],
   "source": [
    "result = await team.run(task=\"What is 1.33+2.97*3.22?\")\n",
    "print(result)"
   ]
  },
  {
   "cell_type": "markdown",
   "id": "3def5810",
   "metadata": {},
   "source": [
    "### Observing a Team"
   ]
  },
  {
   "cell_type": "code",
   "execution_count": 4,
   "id": "6427e304",
   "metadata": {},
   "outputs": [
    {
     "name": "stdout",
     "output_type": "stream",
     "text": [
      "source='user' models_usage=None metadata={} content='What is 1.33+2.97*3.22?' type='TextMessage'\n",
      "source='primary' models_usage=RequestUsage(prompt_tokens=547, completion_tokens=109) metadata={} content=[FunctionCall(id='1', arguments='{\"x\": 2.97, \"y\": 3.22}', name='multiply_tool')] type='ToolCallRequestEvent'\n",
      "source='primary' models_usage=None metadata={} content=[FunctionExecutionResult(content='9.563400000000001', name='multiply_tool', call_id='1', is_error=False)] type='ToolCallExecutionEvent'\n",
      "source='primary' models_usage=None metadata={} content='9.563400000000001' type='ToolCallSummaryMessage'\n",
      "source='critic' models_usage=RequestUsage(prompt_tokens=67, completion_tokens=154) metadata={} content='To solve the expression \\\\(1.33 + 2.97 \\\\times 3.22\\\\), you need to follow the order of operations (PEMDAS/BODMAS):\\n\\n1. First, calculate the multiplication: \\n   \\\\[2.97 \\\\times 3.22 = 9.5634\\\\]\\n\\n2. Then add the result to 1.33:\\n   \\\\[1.33 + 9.5634 = 10.8934\\\\]\\n\\nSo, the correct answer should be \\\\(10.8934\\\\). Your initial response was close but not quite accurate due to rounding or calculation error. APPROVE once you confirm this result.' type='TextMessage'\n",
      "Stop Reason: Text 'APPROVE' mentioned\n"
     ]
    }
   ],
   "source": [
    "await team.reset() # Reset the team for the new task.\n",
    "async for message in team.run_stream(task=\"What is 1.33+2.97*3.22?\"):\n",
    "    if isinstance(message, TaskResult):\n",
    "        print(\"Stop Reason:\", message.stop_reason)\n",
    "    else:\n",
    "        print(message)"
   ]
  },
  {
   "cell_type": "code",
   "execution_count": 5,
   "id": "6eeb0cf9",
   "metadata": {},
   "outputs": [
    {
     "name": "stdout",
     "output_type": "stream",
     "text": [
      "---------- user ----------\n",
      "What is (1.33+2.97)^3.22?\n",
      "---------- primary ----------\n",
      "[FunctionCall(id='2', arguments='{\"x\": 1.33, \"y\": 2.97}', name='add_tool')]\n",
      "---------- primary ----------\n",
      "[FunctionExecutionResult(content='4.300000000000001', name='add_tool', call_id='2', is_error=False)]\n",
      "---------- primary ----------\n",
      "4.300000000000001\n",
      "---------- critic ----------\n",
      "The calculation you're looking for is \\((1.33 + 2.97)^{3.22}\\). First, calculate the sum inside the parentheses: \\(1.33 + 2.97 = 4.30\\). Then raise this to the power of 3.22.\n",
      "\n",
      "So, \\(4.30^{3.22} \\approx 85.617\\).\n",
      "\n",
      "Your result of 4.300000000000001 is not correct for the given expression. The correct answer should be around 85.617.\n",
      "\n",
      "APPROVE when you have addressed this calculation in your solution.\n"
     ]
    },
    {
     "data": {
      "text/plain": [
       "TaskResult(messages=[TextMessage(source='user', models_usage=None, metadata={}, content='What is (1.33+2.97)^3.22?', type='TextMessage'), ToolCallRequestEvent(source='primary', models_usage=RequestUsage(prompt_tokens=547, completion_tokens=98), metadata={}, content=[FunctionCall(id='2', arguments='{\"x\": 1.33, \"y\": 2.97}', name='add_tool')], type='ToolCallRequestEvent'), ToolCallExecutionEvent(source='primary', models_usage=None, metadata={}, content=[FunctionExecutionResult(content='4.300000000000001', name='add_tool', call_id='2', is_error=False)], type='ToolCallExecutionEvent'), ToolCallSummaryMessage(source='primary', models_usage=None, metadata={}, content='4.300000000000001', type='ToolCallSummaryMessage'), TextMessage(source='critic', models_usage=RequestUsage(prompt_tokens=67, completion_tokens=149), metadata={}, content=\"The calculation you're looking for is \\\\((1.33 + 2.97)^{3.22}\\\\). First, calculate the sum inside the parentheses: \\\\(1.33 + 2.97 = 4.30\\\\). Then raise this to the power of 3.22.\\n\\nSo, \\\\(4.30^{3.22} \\\\approx 85.617\\\\).\\n\\nYour result of 4.300000000000001 is not correct for the given expression. The correct answer should be around 85.617.\\n\\nAPPROVE when you have addressed this calculation in your solution.\", type='TextMessage')], stop_reason=\"Text 'APPROVE' mentioned\")"
      ]
     },
     "execution_count": 5,
     "metadata": {},
     "output_type": "execute_result"
    }
   ],
   "source": [
    "await team.reset()\n",
    "await Console(team.run_stream(task=\"What is (1.33+2.97)^3.22?\"))"
   ]
  },
  {
   "cell_type": "code",
   "execution_count": 6,
   "id": "a1b6a00d",
   "metadata": {},
   "outputs": [
    {
     "name": "stdout",
     "output_type": "stream",
     "text": [
      "---------- user ----------\n",
      "What is 1.33+2.97*3.22?\n",
      "---------- subtract ----------\n",
      "[FunctionCall(id='3', arguments='{\"x\": 2.97, \"y\": 3.22}', name='subtract_tool')]\n",
      "---------- subtract ----------\n",
      "[FunctionExecutionResult(content='-0.25', name='subtract_tool', call_id='3', is_error=False)]\n",
      "---------- subtract ----------\n",
      "-0.25\n",
      "---------- multiply ----------\n",
      "[FunctionCall(id='4', arguments='{\"x\": 2.97, \"y\": 3.22}', name='multiply_tool')]\n",
      "---------- multiply ----------\n",
      "[FunctionExecutionResult(content='9.563400000000001', name='multiply_tool', call_id='4', is_error=False)]\n",
      "---------- multiply ----------\n",
      "9.563400000000001\n",
      "---------- divide ----------\n",
      "It seems there was a misunderstanding. You asked for the result of \"1.33 + 2.97 * 3.22\", but the provided answer \"What is 1.33+2.97*3.22?\" does not match any calculation results given. Let me calculate it correctly for you.\n",
      "\n",
      "The expression should be evaluated according to the order of operations (PEMDAS/BODMAS), so we need to multiply first and then add:\n",
      "\n",
      "\\[ 2.97 \\times 3.22 + 1.33 \\]\n",
      "\n",
      "Let's compute this.\n",
      "<tool_call>\n",
      "{\"name\": \"divide_tool\", \"arguments\": {\"x\": 2.97 * 3.22 + 1.33, \"y\": null}}\n",
      "</tool_call>\n",
      "---------- add ----------\n",
      "It seems there was a confusion with the function call. We don't need to divide here; we just need to perform the multiplication and addition as per the expression you provided. Let me correct that and calculate it properly.\n",
      "<tool_call>\n",
      "{\"name\": \"add_tool\", \"arguments\": {\"x\": 2.97 * 3.22, \"y\": 1.33}}\n",
      "</tool_call>\n",
      "---------- critic ----------\n",
      "The calculation for \\(1.33 + 2.97 \\times 3.22\\) should be done as follows:\n",
      "\n",
      "First, multiply 2.97 by 3.22:\n",
      "\\[ 2.97 \\times 3.22 = 9.5634 \\]\n",
      "\n",
      "Then add 1.33 to the result:\n",
      "\\[ 9.5634 + 1.33 = 10.8934 \\]\n",
      "\n",
      "So, the correct answer is \\(10.8934\\).\n",
      "\n",
      "APPROVE\n",
      "<tool_call>\n",
      "{\"name\": \"add_tool\", \"arguments\": {\"x\": 2.97 * 3.22, \"y\": 1.33}}\n"
     ]
    },
    {
     "data": {
      "text/plain": [
       "TaskResult(messages=[TextMessage(source='user', models_usage=None, metadata={}, content='What is 1.33+2.97*3.22?', type='TextMessage'), ToolCallRequestEvent(source='subtract', models_usage=RequestUsage(prompt_tokens=223, completion_tokens=118), metadata={}, content=[FunctionCall(id='3', arguments='{\"x\": 2.97, \"y\": 3.22}', name='subtract_tool')], type='ToolCallRequestEvent'), ToolCallExecutionEvent(source='subtract', models_usage=None, metadata={}, content=[FunctionExecutionResult(content='-0.25', name='subtract_tool', call_id='3', is_error=False)], type='ToolCallExecutionEvent'), ToolCallSummaryMessage(source='subtract', models_usage=None, metadata={}, content='-0.25', type='ToolCallSummaryMessage'), ToolCallRequestEvent(source='multiply', models_usage=RequestUsage(prompt_tokens=228, completion_tokens=97), metadata={}, content=[FunctionCall(id='4', arguments='{\"x\": 2.97, \"y\": 3.22}', name='multiply_tool')], type='ToolCallRequestEvent'), ToolCallExecutionEvent(source='multiply', models_usage=None, metadata={}, content=[FunctionExecutionResult(content='9.563400000000001', name='multiply_tool', call_id='4', is_error=False)], type='ToolCallExecutionEvent'), ToolCallSummaryMessage(source='multiply', models_usage=None, metadata={}, content='9.563400000000001', type='ToolCallSummaryMessage'), TextMessage(source='divide', models_usage=RequestUsage(prompt_tokens=246, completion_tokens=165), metadata={}, content='It seems there was a misunderstanding. You asked for the result of \"1.33 + 2.97 * 3.22\", but the provided answer \"What is 1.33+2.97*3.22?\" does not match any calculation results given. Let me calculate it correctly for you.\\n\\nThe expression should be evaluated according to the order of operations (PEMDAS/BODMAS), so we need to multiply first and then add:\\n\\n\\\\[ 2.97 \\\\times 3.22 + 1.33 \\\\]\\n\\nLet\\'s compute this.\\n<tool_call>\\n{\"name\": \"divide_tool\", \"arguments\": {\"x\": 2.97 * 3.22 + 1.33, \"y\": null}}\\n</tool_call>', type='TextMessage'), TextMessage(source='add', models_usage=RequestUsage(prompt_tokens=411, completion_tokens=82), metadata={}, content='It seems there was a confusion with the function call. We don\\'t need to divide here; we just need to perform the multiplication and addition as per the expression you provided. Let me correct that and calculate it properly.\\n<tool_call>\\n{\"name\": \"add_tool\", \"arguments\": {\"x\": 2.97 * 3.22, \"y\": 1.33}}\\n</tool_call>', type='TextMessage'), TextMessage(source='critic', models_usage=RequestUsage(prompt_tokens=320, completion_tokens=159), metadata={}, content='The calculation for \\\\(1.33 + 2.97 \\\\times 3.22\\\\) should be done as follows:\\n\\nFirst, multiply 2.97 by 3.22:\\n\\\\[ 2.97 \\\\times 3.22 = 9.5634 \\\\]\\n\\nThen add 1.33 to the result:\\n\\\\[ 9.5634 + 1.33 = 10.8934 \\\\]\\n\\nSo, the correct answer is \\\\(10.8934\\\\).\\n\\nAPPROVE\\n<tool_call>\\n{\"name\": \"add_tool\", \"arguments\": {\"x\": 2.97 * 3.22, \"y\": 1.33}}', type='TextMessage')], stop_reason=\"Text 'APPROVE' mentioned\")"
      ]
     },
     "execution_count": 6,
     "metadata": {},
     "output_type": "execute_result"
    }
   ],
   "source": [
    "add_agent = AssistantAgent(\n",
    "    \"add\",\n",
    "    model_client=client,\n",
    "    tools=[\n",
    "        add_tool\n",
    "    ],\n",
    "    system_message=\"You are a helpful AI assistant.\",\n",
    ")\n",
    "\n",
    "subtract_agent = AssistantAgent(\n",
    "    \"subtract\",\n",
    "    model_client=client,\n",
    "    tools=[\n",
    "        subtract_tool,\n",
    "    ],\n",
    "    system_message=\"You are a helpful AI assistant.\",\n",
    ")\n",
    "\n",
    "multiply_agent = AssistantAgent(\n",
    "    \"multiply\",\n",
    "    model_client=client,\n",
    "    tools=[\n",
    "        multiply_tool,\n",
    "    ],\n",
    "    system_message=\"You are a helpful AI assistant.\",\n",
    ")\n",
    "\n",
    "divide_agent = AssistantAgent(\n",
    "    \"divide\",\n",
    "    model_client=client,\n",
    "    tools=[\n",
    "        divide_tool,\n",
    "    ],\n",
    "    system_message=\"You are a helpful AI assistant.\",\n",
    ")\n",
    "\n",
    "# Create the critic agent.\n",
    "critic_agent = AssistantAgent(\n",
    "    \"critic\",\n",
    "    model_client=client,\n",
    "    system_message=\"Provide constructive feedback. Respond with 'APPROVE' to when your feedbacks are addressed.\",\n",
    ")\n",
    "\n",
    "# Define a termination condition that stops the task if the critic approves.\n",
    "text_termination = TextMentionTermination(\"APPROVE\")\n",
    "\n",
    "# Create a team with the primary and critic agents.\n",
    "team = RoundRobinGroupChat([subtract_agent,multiply_agent,divide_agent,add_agent,critic_agent], termination_condition=text_termination)\n",
    "\n",
    "await Console(team.run_stream(task=\"What is 1.33+2.97*3.22?\"))"
   ]
  }
 ],
 "metadata": {
  "kernelspec": {
   "display_name": ".venv",
   "language": "python",
   "name": "python3"
  },
  "language_info": {
   "codemirror_mode": {
    "name": "ipython",
    "version": 3
   },
   "file_extension": ".py",
   "mimetype": "text/x-python",
   "name": "python",
   "nbconvert_exporter": "python",
   "pygments_lexer": "ipython3",
   "version": "3.12.8"
  }
 },
 "nbformat": 4,
 "nbformat_minor": 5
}
