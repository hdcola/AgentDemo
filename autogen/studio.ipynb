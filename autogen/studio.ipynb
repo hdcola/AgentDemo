{
 "cells": [
  {
   "cell_type": "markdown",
   "id": "15bb9c2c",
   "metadata": {},
   "source": [
    "# AutoGen Studio\n",
    "\n",
    "AutoGen Studio is a low-code interface built to help you rapidly prototype AI agents, enhance them with tools, compose them into teams and interact with them to accomplish tasks. It is built on AutoGen AgentChat - a high-level API for building multi-agent applications.\n",
    "\n",
    "## Installation"
   ]
  },
  {
   "cell_type": "code",
   "execution_count": null,
   "id": "3868b712",
   "metadata": {},
   "outputs": [],
   "source": [
    "%pip install -qU autogenstudio"
   ]
  },
  {
   "cell_type": "markdown",
   "id": "2e4266a6",
   "metadata": {},
   "source": [
    "## Running the Application"
   ]
  },
  {
   "cell_type": "code",
   "execution_count": null,
   "id": "d8dc8273",
   "metadata": {},
   "outputs": [],
   "source": [
    "!autogenstudio ui --port 8081"
   ]
  },
  {
   "cell_type": "markdown",
   "id": "d8862ef1",
   "metadata": {},
   "source": [
    "## Deploy\n",
    "\n",
    "### Python\n",
    "\n",
    "\n",
    "#### Build team in Python or Use AutoGen Studio download a team configuration json file\n"
   ]
  },
  {
   "cell_type": "code",
   "execution_count": 1,
   "id": "487b098f",
   "metadata": {},
   "outputs": [
    {
     "name": "stdout",
     "output_type": "stream",
     "text": [
      "{\n",
      "  \"provider\": \"autogen_agentchat.teams.RoundRobinGroupChat\",\n",
      "  \"component_type\": \"team\",\n",
      "  \"version\": 1,\n",
      "  \"component_version\": 1,\n",
      "  \"description\": \"A team that runs a group chat with participants taking turns in a round-robin fashion\\n    to publish a message to all.\",\n",
      "  \"label\": \"RoundRobinGroupChat\",\n",
      "  \"config\": {\n",
      "    \"participants\": [\n",
      "      {\n",
      "        \"provider\": \"autogen_agentchat.agents.AssistantAgent\",\n",
      "        \"component_type\": \"agent\",\n",
      "        \"version\": 1,\n",
      "        \"component_version\": 1,\n",
      "        \"description\": \"An agent that provides assistance with tool use.\",\n",
      "        \"label\": \"AssistantAgent\",\n",
      "        \"config\": {\n",
      "          \"name\": \"weather_agent\",\n",
      "          \"model_client\": {\n",
      "            \"provider\": \"autogen_ext.models.openai.OpenAIChatCompletionClient\",\n",
      "            \"component_type\": \"model\",\n",
      "            \"version\": 1,\n",
      "            \"component_version\": 1,\n",
      "            \"description\": \"Chat completion client for OpenAI hosted models.\",\n",
      "            \"label\": \"OpenAIChatCompletionClient\",\n",
      "            \"config\": {\n",
      "              \"model\": \"gpt-4o-mini\"\n",
      "            }\n",
      "          },\n",
      "          \"tools\": [],\n",
      "          \"model_context\": {\n",
      "            \"provider\": \"autogen_core.model_context.UnboundedChatCompletionContext\",\n",
      "            \"component_type\": \"chat_completion_context\",\n",
      "            \"version\": 1,\n",
      "            \"component_version\": 1,\n",
      "            \"description\": \"An unbounded chat completion context that keeps a view of the all the messages.\",\n",
      "            \"label\": \"UnboundedChatCompletionContext\",\n",
      "            \"config\": {}\n",
      "          },\n",
      "          \"description\": \"An agent that provides assistance with ability to use tools.\",\n",
      "          \"system_message\": \"You are a helpful AI assistant. Solve tasks using your tools. Reply with TERMINATE when the task has been completed.\",\n",
      "          \"model_client_stream\": false,\n",
      "          \"reflect_on_tool_use\": false,\n",
      "          \"tool_call_summary_format\": \"{result}\"\n",
      "        }\n",
      "      }\n",
      "    ],\n",
      "    \"termination_condition\": {\n",
      "      \"provider\": \"autogen_agentchat.conditions.TextMentionTermination\",\n",
      "      \"component_type\": \"termination\",\n",
      "      \"version\": 1,\n",
      "      \"component_version\": 1,\n",
      "      \"description\": \"Terminate the conversation if a specific text is mentioned.\",\n",
      "      \"label\": \"TextMentionTermination\",\n",
      "      \"config\": {\n",
      "        \"text\": \"TERMINATE\"\n",
      "      }\n",
      "    }\n",
      "  }\n",
      "}\n"
     ]
    }
   ],
   "source": [
    "from autogen_agentchat.agents import AssistantAgent\n",
    "from autogen_agentchat.teams import RoundRobinGroupChat\n",
    "from autogen_agentchat.ui import Console\n",
    "from autogen_ext.models.openai import OpenAIChatCompletionClient\n",
    "from autogen_agentchat.conditions import  TextMentionTermination\n",
    " \n",
    "agent = AssistantAgent(\n",
    "        name=\"weather_agent\",\n",
    "        model_client=OpenAIChatCompletionClient(\n",
    "            model=\"gpt-4o-mini\", \n",
    "        ), \n",
    "    ) \n",
    "agent_team = RoundRobinGroupChat([agent], termination_condition=TextMentionTermination(\"TERMINATE\"))\n",
    "config = agent_team.dump_component()\n",
    "print(config.model_dump_json(indent=2))"
   ]
  },
  {
   "cell_type": "markdown",
   "id": "a4db12be",
   "metadata": {},
   "source": [
    "#### Run a Team in Python from a json file\n"
   ]
  },
  {
   "cell_type": "code",
   "execution_count": 5,
   "id": "c78fdcf7",
   "metadata": {},
   "outputs": [
    {
     "name": "stderr",
     "output_type": "stream",
     "text": [
      "/Users/hd/work/prj/AgentDemo/.venv/lib/python3.12/site-packages/autogen_core/_component_config.py:252: UserWarning: \n",
      "⚠️  SECURITY WARNING ⚠️\n",
      "Loading a FunctionTool from config will execute code to import the provided global imports and and function code.\n",
      "Only load configs from TRUSTED sources to prevent arbitrary code execution.\n",
      "  instance = component_class._from_config(validated_config)  # type: ignore\n",
      "/Users/hd/work/prj/AgentDemo/.venv/lib/python3.12/site-packages/autogen_agentchat/agents/_assistant_agent.py:870: UserWarning: Finish reason mismatch: stop != tool_calls when tool_calls are present. Finish reason may not be accurate. This may be due to the API used that is not returning the correct finish reason.\n",
      "  model_result = await model_client.create(\n"
     ]
    },
    {
     "name": "stdout",
     "output_type": "stream",
     "text": [
      "task_result=TaskResult(messages=[TextMessage(source='user', models_usage=None, metadata={}, content='What is 2.375+3.774*1.772?', type='TextMessage'), ToolCallRequestEvent(source='assistant_agent', models_usage=RequestUsage(prompt_tokens=192, completion_tokens=120), metadata={}, content=[FunctionCall(id='0', arguments='{\"a\": 2.375, \"b\": 3.774, \"operator\": \"add\"}', name='calculator'), FunctionCall(id='0', arguments='{\"a\": 3.774, \"b\": 1.772, \"operator\": \"multiply\"}', name='calculator'), FunctionCall(id='0', arguments='{\"a\": 6.659088, \"b\": 2.375, \"operator\": \"add\"}', name='calculator')], type='ToolCallRequestEvent'), ToolCallExecutionEvent(source='assistant_agent', models_usage=None, metadata={}, content=[FunctionExecutionResult(content='Error: Invalid operator. Please use +, -, *, or /', name='calculator', call_id='0', is_error=False), FunctionExecutionResult(content='Error: Invalid operator. Please use +, -, *, or /', name='calculator', call_id='0', is_error=False), FunctionExecutionResult(content='Error: Invalid operator. Please use +, -, *, or /', name='calculator', call_id='0', is_error=False)], type='ToolCallExecutionEvent'), ToolCallSummaryMessage(source='assistant_agent', models_usage=None, metadata={}, content='Error: Invalid operator. Please use +, -, *, or /\\nError: Invalid operator. Please use +, -, *, or /\\nError: Invalid operator. Please use +, -, *, or /', type='ToolCallSummaryMessage'), ToolCallRequestEvent(source='assistant_agent', models_usage=RequestUsage(prompt_tokens=345, completion_tokens=104), metadata={}, content=[FunctionCall(id='1', arguments='{\"a\": 3.774, \"b\": 1.772, \"operator\": \"multiply\"}', name='calculator')], type='ToolCallRequestEvent'), ToolCallExecutionEvent(source='assistant_agent', models_usage=None, metadata={}, content=[FunctionExecutionResult(content='Error: Invalid operator. Please use +, -, *, or /', name='calculator', call_id='1', is_error=False)], type='ToolCallExecutionEvent'), ToolCallSummaryMessage(source='assistant_agent', models_usage=None, metadata={}, content='Error: Invalid operator. Please use +, -, *, or /', type='ToolCallSummaryMessage'), TextMessage(source='assistant_agent', models_usage=RequestUsage(prompt_tokens=409, completion_tokens=40), metadata={}, content='<tool_call>\\n{\"name\": \"calculator\", \"arguments\": {\"a\":2.375,\"b\":3.774*1.772,\"operator\":\"add\"}}\\n</tool_call>', type='TextMessage'), TextMessage(source='assistant_agent', models_usage=RequestUsage(prompt_tokens=448, completion_tokens=1), metadata={}, content='', type='TextMessage'), ToolCallRequestEvent(source='assistant_agent', models_usage=RequestUsage(prompt_tokens=449, completion_tokens=90), metadata={}, content=[FunctionCall(id='2', arguments='{\"a\": 2.375, \"b\": 6.658968, \"operator\": \"add\"}', name='calculator'), FunctionCall(id='2', arguments='{\"a\": 2.375, \"b\": 6.658968, \"operator\": \"add\"}', name='calculator')], type='ToolCallRequestEvent'), ToolCallExecutionEvent(source='assistant_agent', models_usage=None, metadata={}, content=[FunctionExecutionResult(content='Error: Invalid operator. Please use +, -, *, or /', name='calculator', call_id='2', is_error=False), FunctionExecutionResult(content='Error: Invalid operator. Please use +, -, *, or /', name='calculator', call_id='2', is_error=False)], type='ToolCallExecutionEvent'), ToolCallSummaryMessage(source='assistant_agent', models_usage=None, metadata={}, content='Error: Invalid operator. Please use +, -, *, or /\\nError: Invalid operator. Please use +, -, *, or /', type='ToolCallSummaryMessage'), TextMessage(source='assistant_agent', models_usage=RequestUsage(prompt_tokens=493, completion_tokens=170), metadata={}, content='Let\\'s break down the expression \\\\( 2.375 + 3.774 \\\\times 1.772 \\\\) step by step:\\n\\nFirst, calculate the multiplication part:\\n\\\\[ 3.774 \\\\times 1.772 = 6.659088 \\\\]\\n\\nThen add this result to 2.375:\\n\\\\[ 2.375 + 6.659088 = 9.034088 \\\\]\\n\\nSo, the final answer is \\\\( 9.034088 \\\\).\\n\\n<tool_call>\\n{\"name\": \"calculator\", \"arguments\": {\"a\":2.375, \"b\":3.774 * 1.772, \"operator\":\"add\"}}\\n</tool_call>', type='TextMessage'), TextMessage(source='assistant_agent', models_usage=RequestUsage(prompt_tokens=662, completion_tokens=1), metadata={}, content='', type='TextMessage'), TextMessage(source='assistant_agent', models_usage=RequestUsage(prompt_tokens=663, completion_tokens=17), metadata={}, content='The result of the expression is 9.034088.', type='TextMessage'), TextMessage(source='assistant_agent', models_usage=RequestUsage(prompt_tokens=679, completion_tokens=1), metadata={}, content='', type='TextMessage')], stop_reason='Maximum number of messages 10 reached, current message count: 10') usage='' duration=12.664077043533325\n"
     ]
    }
   ],
   "source": [
    "from autogenstudio.teammanager import TeamManager\n",
    "\n",
    "# Initialize the TeamManager\n",
    "manager = TeamManager()\n",
    "\n",
    "# Run a task with a specific team configuration\n",
    "result = await manager.run(\n",
    "task=\"What is 2.375+3.774*1.772?\",\n",
    "team_config=\"team-config.json\"\n",
    ")\n",
    "print(result)"
   ]
  }
 ],
 "metadata": {
  "kernelspec": {
   "display_name": ".venv",
   "language": "python",
   "name": "python3"
  },
  "language_info": {
   "codemirror_mode": {
    "name": "ipython",
    "version": 3
   },
   "file_extension": ".py",
   "mimetype": "text/x-python",
   "name": "python",
   "nbconvert_exporter": "python",
   "pygments_lexer": "ipython3",
   "version": "3.12.8"
  }
 },
 "nbformat": 4,
 "nbformat_minor": 5
}
