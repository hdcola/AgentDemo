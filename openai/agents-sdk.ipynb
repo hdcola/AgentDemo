{
 "cells": [
  {
   "cell_type": "markdown",
   "metadata": {},
   "source": [
    "# OpenAI Agents SDK Demo\n",
    "\n",
    "OpenAI have released an [Agents SDK](https://openai.github.io/openai-agents-python/) and [Support MCP](https://openai.github.io/openai-agents-python/mcp/). This demo want to show how to use the SDK to make an application that call multiple agents to do a task.\n",
    "\n",
    "Install the dependencies library:"
   ]
  },
  {
   "cell_type": "code",
   "execution_count": 3,
   "metadata": {},
   "outputs": [
    {
     "name": "stdout",
     "output_type": "stream",
     "text": [
      "Note: you may need to restart the kernel to use updated packages.\n"
     ]
    }
   ],
   "source": [
    "%pip install -qU openai-agents==0.0.7 python-dotenv"
   ]
  },
  {
   "cell_type": "markdown",
   "metadata": {},
   "source": [
    "## Stetup LLM and Agent\n",
    "\n",
    "Setup OpenAI API url, model and key:"
   ]
  },
  {
   "cell_type": "code",
   "execution_count": 1,
   "metadata": {},
   "outputs": [
    {
     "data": {
      "text/plain": [
       "'qwen2.5:7b'"
      ]
     },
     "execution_count": 1,
     "metadata": {},
     "output_type": "execute_result"
    }
   ],
   "source": [
    "import os\n",
    "from dotenv import load_dotenv\n",
    "from getpass import getpass\n",
    "\n",
    "# Load environment variables from .env file\n",
    "load_dotenv()\n",
    "\n",
    "# Get API base URL and model with default values\n",
    "OPENAI_API_BASE = os.getenv(\"OPENAI_API_BASE\", \"https://api.openai.com/v1\")\n",
    "OPENAI_MODEL = os.getenv(\"OPENAI_MODEL\", \"gpt-4o\")\n",
    "\n",
    "# Set up OpenAI API configuration\n",
    "# Try to get API key from environment variables\n",
    "OPENAI_API_KEY = os.getenv(\"OPENAI_API_KEY\")\n",
    "# If not found, ask user to input it\n",
    "if not OPENAI_API_KEY:\n",
    "    OPENAI_API_KEY = getpass(\"Enter your OpenAI API key:\")\n",
    "\n",
    "OPENAI_MODEL"
   ]
  },
  {
   "cell_type": "markdown",
   "metadata": {},
   "source": [
    "Enter your OpenAI API key:  ··········\n",
    "\n",
    "\n",
    "Setup an agent:"
   ]
  },
  {
   "cell_type": "code",
   "execution_count": 6,
   "metadata": {},
   "outputs": [],
   "source": [
    "from agents import Agent, Runner, OpenAIChatCompletionsModel, AsyncOpenAI\n",
    "\n",
    "model= OpenAIChatCompletionsModel(\n",
    "    model=OPENAI_MODEL,\n",
    "    openai_client=AsyncOpenAI(base_url=OPENAI_API_BASE,api_key=OPENAI_API_KEY),\n",
    ")\n",
    "\n",
    "agent = Agent(\n",
    "    name=\"Assistant\",\n",
    "    instructions=\"You're a helpful assistant\",\n",
    "    model=model,\n",
    "\n",
    ")"
   ]
  },
  {
   "cell_type": "markdown",
   "metadata": {},
   "source": [
    "## Running the Agent"
   ]
  },
  {
   "cell_type": "code",
   "execution_count": 7,
   "metadata": {},
   "outputs": [
    {
     "data": {
      "text/plain": [
       "\"Once upon a time, in a small village nestled among rolling hills and dense forests, there lived a kind-hearted girl named Elara. Elara was known for her golden hair that glimmered like the noon sun and her voice that could soothe any troubled soul.\\n\\nOne autumn day, as leaves painted the ground in hues of yellow and orange, a gentle breeze carried tales of an ancient treasure hidden within the enchanted woods surrounding the village. Legend spoke of a chest filled with jewels, gold coins, and magical artifacts left by an old king who had once ruled over the land.\\n\\nDriven by curiosity and the promise of adventure, Elara decided to explore the woods in search of the treasured hoard. She packed her backpack with provisions and set off early one morning. As she wandered deeper into the forest, the trees grew taller, casting dappled light through their leaves.\\n\\nAfter hours of wandering, she approached a glade filled with wildflowers and a sparkling brook. In the center stood an ancient oak tree with carvings that told stories of old battles and kings. Just as Elara was about to continue her journey, she noticed something glinting from behind the trunk.\\n\\nIt was a small, intricately carved key hidden among decaying vines and moss. With a mix of excitement and wonder, Elara examined it carefully before tucking it into her pocket. She followed the path where the key had been found, leading to an overgrown pathway filled with glowing mushrooms and bioluminescent ferns.\\n\\nThe trail ended at a hollow log that creaked softly when Elara stepped on it. To her delight, it revealed a dimly lit cavern filled with glittering treasures—precious stones, golden coins, and artifacts from times long past. But as she examined the contents, Elara felt an overwhelming sense of peace wash over her.\\n\\nShe realized that the true treasure was not in the possessions but in the adventure itself and the beauty of the forest's hidden secrets. With a smile, she placed the key gently on a shelf of stone beside other relics, knowing it would remain for future explorers to find.\\n\\nElara returned to the village, her heart full of wonder, and shared her discovery with no one, keeping only the memory of the magical treasure hunt to herself. From that day forward, Elara continued her adventures in the woods, always cherishing the magical key as a reminder of her incredible journey.\""
      ]
     },
     "execution_count": 7,
     "metadata": {},
     "output_type": "execute_result"
    }
   ],
   "source": [
    "result = await Runner.run(\n",
    "    starting_agent=agent,\n",
    "    input=\"tell me a short story\",\n",
    ")\n",
    "result.final_output"
   ]
  }
 ],
 "metadata": {
  "kernelspec": {
   "display_name": ".venv",
   "language": "python",
   "name": "python3"
  },
  "language_info": {
   "codemirror_mode": {
    "name": "ipython",
    "version": 3
   },
   "file_extension": ".py",
   "mimetype": "text/x-python",
   "name": "python",
   "nbconvert_exporter": "python",
   "pygments_lexer": "ipython3",
   "version": "3.12.8"
  }
 },
 "nbformat": 4,
 "nbformat_minor": 2
}
