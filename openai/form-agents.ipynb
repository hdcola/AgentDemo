{
 "cells": [
  {
   "cell_type": "code",
   "execution_count": 1,
   "id": "59b21715",
   "metadata": {},
   "outputs": [],
   "source": [
    "import os\n",
    "from dotenv import load_dotenv\n",
    "from getpass import getpass\n",
    "\n",
    "# Load environment variables from .env file\n",
    "load_dotenv()\n",
    "\n",
    "# Get API base URL and model with default values\n",
    "OPENAI_MODEL = os.getenv(\"OPENAI_MODEL\", \"gpt-4o-mini\")\n",
    "OLLAMA_API_BASE = os.getenv(\"OLLAMA_API_BASE\", \"http://localhost:11434/v1\")\n",
    "OLLAMA_API_KEY = os.getenv(\"OLLAMA_API_KEY\", \"ollama\")\n",
    "OLLAMA_MODEL = os.getenv(\"OLLAMA_MODEL\", \"qwen2.5:7b\")\n",
    "\n",
    "# Set up OpenAI API configuration\n",
    "# Try to get API key from environment variables\n",
    "OPENAI_API_KEY = os.getenv(\"OPENAI_API_KEY\")\n",
    "# If not found, ask user to input it\n",
    "if not OPENAI_API_KEY:\n",
    "    OPENAI_API_KEY = getpass(\"Enter your OpenAI API key:\")\n",
    "\n",
    "from agents import OpenAIChatCompletionsModel, AsyncOpenAI\n",
    "\n",
    "gpt4om_model= OpenAIChatCompletionsModel(\n",
    "    model=\"gpt-4o-mini\",\n",
    "    openai_client=AsyncOpenAI(api_key=OPENAI_API_KEY),\n",
    ")\n",
    "\n",
    "qwen_model= OpenAIChatCompletionsModel(\n",
    "    model=\"qwen2.5:7b\",\n",
    "    openai_client=AsyncOpenAI(base_url=OLLAMA_API_BASE,api_key=OLLAMA_API_KEY),\n",
    ")\n",
    "\n",
    "import json\n",
    "from agents import function_tool\n",
    "\n",
    "def get_form_schema() -> list:\n",
    "    \"\"\"Get the schema definition of the form data\"\"\"\n",
    "    return [\n",
    "        {\n",
    "            \"name\": \"username\",\n",
    "            \"type\": \"string\",\n",
    "            \"required\": True,\n",
    "            \"description\": \"User name, between 3 and 20 characters long\",\n",
    "            \"value\": None,\n",
    "        },\n",
    "        {\n",
    "            \"name\": \"age\",\n",
    "            \"type\": \"number\",\n",
    "            \"required\": True,\n",
    "            \"description\": \"Age, please enter a positive integer\",\n",
    "            \"value\": None,\n",
    "        },\n",
    "        {\n",
    "            \"name\": \"email\",\n",
    "            \"type\": \"string\",\n",
    "            \"required\": False,\n",
    "            \"description\": \"Email address to receive notifications\",\n",
    "            \"value\": None,\n",
    "        }\n",
    "    ]\n",
    "\n",
    "def ensure_form_file_exists(file_path: str) -> bool:\n",
    "    \"\"\"\n",
    "    Ensure the form data file exists, create it if it doesn't\n",
    "    \"\"\"\n",
    "    try:\n",
    "        if not os.path.exists(file_path):\n",
    "            print(f\"Form data file does not exist: {file_path}, creating new file\")\n",
    "            # Ensure directory exists\n",
    "            os.makedirs(os.path.dirname(file_path), exist_ok=True)\n",
    "            # Create empty form data\n",
    "            empty_form_data = get_form_schema()\n",
    "            # Write empty data to file\n",
    "            with open(file_path, 'w', encoding='utf-8') as f:\n",
    "                json.dump(empty_form_data, f, ensure_ascii=False, indent=2)\n",
    "        return True\n",
    "    except Exception as e:\n",
    "        print(f\"Error creating form data file: {e}\")\n",
    "        return False\n",
    "\n",
    "@function_tool\n",
    "def get_form_data_tool() -> str:\n",
    "    \"\"\"\n",
    "    Read the form data filled by the user\n",
    "    \"\"\"\n",
    "    file_path = \"./form_data.json\"\n",
    "    try:\n",
    "        if not ensure_form_file_exists(file_path):\n",
    "            return get_form_schema()\n",
    "\n",
    "        with open(file_path, 'r', encoding='utf-8') as f:\n",
    "            form_data = json.load(f)\n",
    "            return json.dumps(form_data, indent=2)\n",
    "            # return form_data\n",
    "    except json.JSONDecodeError:\n",
    "        return(f\"JSON format error: {file_path}\")\n",
    "    except Exception as e:\n",
    "        return(f\"Error reading form data: {e}\")\n",
    "\n",
    "@function_tool\n",
    "def update_form_field_tool(field_name:str, field_value: str|int|float) -> str:\n",
    "    \"\"\"\n",
    "    Update a field in the form data\n",
    "\n",
    "    Args:\n",
    "        field_name (str): Form field name\n",
    "        field_value (str): Form field value\n",
    "    \n",
    "    Returns:\n",
    "        Updated form data\n",
    "    \"\"\"\n",
    "    file_path = \"./form_data.json\"\n",
    "    try:\n",
    "        # Ensure file exists\n",
    "        if not ensure_form_file_exists(file_path):\n",
    "            return\n",
    "            \n",
    "        with open(file_path, 'r+', encoding='utf-8') as f:\n",
    "            form_data = json.load(f)\n",
    "            # Find the field to update\n",
    "            for field in form_data:\n",
    "                if field['name'] == field_name:\n",
    "                    # Convert value according to field type\n",
    "                    if field['type'] == 'number':\n",
    "                        try:\n",
    "                            field['value'] = int(field_value)\n",
    "                        except ValueError:\n",
    "                            try:\n",
    "                                field['value'] = float(field_value)\n",
    "                            except ValueError:\n",
    "                                return(f\"Warning: Cannot convert '{field_value}' to number type, keeping original string\")\n",
    "                                # field['value'] = field_value\n",
    "                    else:  # string or other types\n",
    "                        field['value'] = field_value\n",
    "                    break\n",
    "            f.seek(0)\n",
    "            json.dump(form_data, f, ensure_ascii=False, indent=2)\n",
    "            f.truncate()\n",
    "        return f\"Form data update successful: {field_name} = {field_value}\"\n",
    "    except Exception as e:\n",
    "        return(f\"Error updating form data: {e}\")\n",
    "    \n",
    "@function_tool\n",
    "def get_quote_tool(username: str, age: int, email: str, term: int, amount: int ) -> str:\n",
    "    \"\"\"\n",
    "    Get a insurers quote based on user information\n",
    "\n",
    "    Args:\n",
    "        username (str): User name\n",
    "        age (int): User age\n",
    "        term (int): Protection term in years\n",
    "        amount (int): Loan amount in dollars\n",
    "    \"\"\"\n",
    "\n",
    "    # Age     Monthly     Annual\n",
    "    # 35 - 54 $ 28.80     $ 320.00\n",
    "    # 55 - 74 $ 333.90    $ 3,710.00\n",
    "    # 75 - 89 $ 727.20    $ 8,080.00\n",
    "\n",
    "    monthly_payment = 0\n",
    "    annual_payment = 0 \n",
    "    if age >= 35 and age <= 54:\n",
    "        monthly_payment = 28.80\n",
    "        annual_payment = 320.00\n",
    "    elif age >= 55 and age <= 74:\n",
    "        monthly_payment = 333.90\n",
    "        annual_payment = 3710.00\n",
    "    elif age >= 75 and age <= 89:\n",
    "        monthly_payment = 727.20\n",
    "        annual_payment = 8080.00\n",
    "\n",
    "    quote = {\n",
    "        \"username\": username,\n",
    "        \"age\": age,\n",
    "        \"amount\": amount,\n",
    "        \"Monthly Payment\": monthly_payment,\n",
    "        \"Annual Payment\": annual_payment,\n",
    "    }\n",
    "    return f\"Hello {username}, you are {age} years old. A quote for you: 'The only limit to our realization of tomorrow is our doubts of today.'\""
   ]
  },
  {
   "cell_type": "code",
   "execution_count": 2,
   "id": "a7edc8dc",
   "metadata": {},
   "outputs": [],
   "source": [
    "from agents import Agent\n",
    "\n",
    "form_agent = Agent(\n",
    "    name=\"User information Assistant\",\n",
    "    instructions=\"You are an assistant who helps users fill out forms to save user information. Please query and update the user's information based on the user's input.\",\n",
    "    tools=[\n",
    "        get_form_data_tool,\n",
    "        update_form_field_tool\n",
    "    ],\n",
    "    model=qwen_model,\n",
    "    # model=gpt4om_model,\n",
    ")\n",
    "\n",
    "quote_agent = Agent(\n",
    "    name=\"Quote Assistant\",\n",
    "    instructions=\"You are an assistant helping users get a insurers quote based on their information.\",\n",
    "    tools=[\n",
    "        get_quote_tool\n",
    "    ],\n",
    "    model=qwen_model,\n",
    "    # model=gpt4om_model,\n",
    ")\n",
    "\n",
    "triage_agent = Agent(\n",
    "    name=\"Triage Assistant\",\n",
    "    instructions=(\n",
    "        \"Help the user with their questions.\"\n",
    "        \"If they ask for their information, handoff to the form agent.\"\n",
    "        \"If they ask for a quote, handoff to the quote function.\"\n",
    "    ),\n",
    "    handoffs=[form_agent, quote_agent],\n",
    "    model=qwen_model,\n",
    ")"
   ]
  },
  {
   "cell_type": "code",
   "execution_count": 3,
   "id": "5b0eb602",
   "metadata": {},
   "outputs": [],
   "source": [
    "from agents import Runner, RunResultStreaming\n",
    "from openai.types.responses import (\n",
    "    ResponseTextDeltaEvent,\n",
    "    ResponseFunctionCallArgumentsDeltaEvent,\n",
    ")\n",
    "\n",
    "async def show_streaming_response(\n",
    "    response: RunResultStreaming,\n",
    "    verbose: bool = False,\n",
    ") -> None:\n",
    "    async for event in response.stream_events():\n",
    "        # print(f'\\n{event.type}')\n",
    "        # print(event)\n",
    "        if event.type == \"raw_response_event\": \n",
    "            if isinstance(event.data, ResponseFunctionCallArgumentsDeltaEvent) and verbose:\n",
    "                # this is streamed parameters for our tool call\n",
    "                print(event.data.delta, end=\"\", flush=True)\n",
    "            elif isinstance(event.data, ResponseTextDeltaEvent):\n",
    "                # this is streamed final answer tokens\n",
    "                print(event.data.delta, end=\"\", flush=True)\n",
    "        elif event.type == \"agent_updated_stream_event\" and verbose:\n",
    "            # this tells us which agent is currently in use\n",
    "            print(f\"> Current Agent: {event.new_agent.name}\")\n",
    "        elif event.type == \"run_item_stream_event\" and verbose:\n",
    "            # these are events containing info that we'd typically\n",
    "            # stream out to a user or some downstream process\n",
    "            if event.name == \"tool_called\":\n",
    "                # this is the collection of our _full_ tool call after our tool\n",
    "                # tokens have all been streamed\n",
    "                print()\n",
    "                print(f\"> Tool Called, name: {event.item.raw_item.name}\")\n",
    "                print(f\"> Tool Called, args: {event.item.raw_item.arguments}\")\n",
    "            elif event.name == \"tool_output\":\n",
    "                # this is the response from our tool execution\n",
    "                print(f\"> Tool Output: {event.item.raw_item['output']}\")\n",
    "        elif verbose:\n",
    "            print(f\"Unknown event type: {event.type}\", type(event).__name__)\n",
    "            print(event)\n",
    "\n",
    "# Define input_list as a global variable to maintain conversation history\n",
    "input_list = []\n",
    "\n",
    "async def handle_customer_query(query: str) -> None:\n",
    "    global input_list\n",
    "    \n",
    "    # Create the response using the current input list plus the new query\n",
    "    response = Runner.run_streamed(\n",
    "        starting_agent=triage_agent,\n",
    "        input=input_list + [{\"role\": \"user\", \"content\": query}]\n",
    "    )\n",
    "    \n",
    "    # Show the streaming response\n",
    "    await show_streaming_response(response)\n",
    "    \n",
    "    # Update the input list for the next conversation turn\n",
    "    input_list = response.to_input_list()"
   ]
  },
  {
   "cell_type": "code",
   "execution_count": 4,
   "id": "f5aeb407",
   "metadata": {},
   "outputs": [
    {
     "name": "stdout",
     "output_type": "stream",
     "text": [
      "Here is your current information:\n",
      "\n",
      "- Username: Not set\n",
      "- Age: Not set\n",
      "- Email: Not set\n",
      "\n",
      "Would you like to update any of these details?"
     ]
    }
   ],
   "source": [
    "await handle_customer_query(\"List all my information\")"
   ]
  },
  {
   "cell_type": "code",
   "execution_count": 6,
   "id": "ded238c4",
   "metadata": {},
   "outputs": [
    {
     "name": "stdout",
     "output_type": "stream",
     "text": [
      "Hello John Doe! To continue, we just need your age and, optionally, an email address for notifications.\n",
      "\n",
      "Could you please provide:\n",
      "\n",
      "- Your age (as a positive integer)\n",
      "- Your email address (if you want us to send notifications)"
     ]
    }
   ],
   "source": [
    "await handle_customer_query(\"My Name is John Doe. What other information do I need to provide?\")"
   ]
  },
  {
   "cell_type": "code",
   "execution_count": 7,
   "id": "49f97b3c",
   "metadata": {},
   "outputs": [
    {
     "name": "stdout",
     "output_type": "stream",
     "text": [
      "Great! And could you please provide your email address if you wish to receive any updates or notifications? If not, that's okay too."
     ]
    }
   ],
   "source": [
    "await handle_customer_query(\"I'm 29.\")"
   ]
  },
  {
   "cell_type": "code",
   "execution_count": 9,
   "id": "8d883238",
   "metadata": {},
   "outputs": [
    {
     "name": "stdout",
     "output_type": "stream",
     "text": [
      "Sure, let's gather the information together:\n",
      "\n",
      "- Username: Not explicitly set in this conversation (we can call you John Doe)\n",
      "- Age: 29\n",
      "- Email: (not provided yet)\n",
      "\n",
      "Would you like to provide an email address now? If yes, please do so; otherwise, I'll proceed without it."
     ]
    }
   ],
   "source": [
    "await handle_customer_query(\"Yes. Let me see all my information.\")"
   ]
  },
  {
   "cell_type": "code",
   "execution_count": 10,
   "id": "179d1a32",
   "metadata": {},
   "outputs": [
    {
     "name": "stdout",
     "output_type": "stream",
     "text": [
      "Sure, I can help with that. Could you please provide the amount for which you would like to get a quote? For example, how much coverage are you interested in purchasing? This will be the \"amount\" parameter needed to generate your quote.\n",
      "\n",
      "If you're not sure about the exact amount, we can use an estimate or discuss what might be appropriate based on your needs."
     ]
    }
   ],
   "source": [
    "await handle_customer_query(\"Please make me a term 20 insurers quote.\")"
   ]
  },
  {
   "cell_type": "code",
   "execution_count": 11,
   "id": "76b0e62d",
   "metadata": {},
   "outputs": [
    {
     "name": "stdout",
     "output_type": "stream",
     "text": [
      "Perfect! We have your request to get a term 20 insurance quote for an amount of $800,000.\n",
      "\n",
      "Could you also provide any additional details such as your preferred insurer or specific terms that might affect the policy (e.g., health status, age, etc.)? This information will help us to tailor the quotes more accurately.\n",
      "If no further details are needed, we can proceed with the standard evaluation process."
     ]
    }
   ],
   "source": [
    "await handle_customer_query(\"The amount is $800000.\")"
   ]
  },
  {
   "cell_type": "code",
   "execution_count": 12,
   "id": "36eafb8c",
   "metadata": {},
   "outputs": [
    {
     "name": "stdout",
     "output_type": "stream",
     "text": [
      "Got it! Using abc@abc.com as your email address for notifications.\n",
      "\n",
      "Now, let's proceed with generating the quote for term 20 insurance coverage of $800,000.\n",
      "\n",
      "Do you have any additional details or specific requirements that should be considered? If not, we can move forward with a standard evaluation."
     ]
    }
   ],
   "source": [
    "await handle_customer_query(\"You can use abc@abc.com\")"
   ]
  },
  {
   "cell_type": "code",
   "execution_count": 14,
   "id": "efa3557e",
   "metadata": {},
   "outputs": [
    {
     "name": "stdout",
     "output_type": "stream",
     "text": [
      "Sure! I'll save your personal information.\n",
      "\n",
      "- Username: John Doe (extracted from your full name)\n",
      "- Age: 29\n",
      "- Email: abc@abc.com\n",
      "\n",
      "Would you also like to set a username specifically for our services or proceed with \"John Doe\"? Additionally, do you have any other details you'd like to add?"
     ]
    }
   ],
   "source": [
    "await handle_customer_query(\"请保存我的个人信息.\")"
   ]
  }
 ],
 "metadata": {
  "kernelspec": {
   "display_name": ".venv",
   "language": "python",
   "name": "python3"
  },
  "language_info": {
   "codemirror_mode": {
    "name": "ipython",
    "version": 3
   },
   "file_extension": ".py",
   "mimetype": "text/x-python",
   "name": "python",
   "nbconvert_exporter": "python",
   "pygments_lexer": "ipython3",
   "version": "3.12.8"
  }
 },
 "nbformat": 4,
 "nbformat_minor": 5
}
