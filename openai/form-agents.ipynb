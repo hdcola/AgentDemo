{
 "cells": [
  {
   "cell_type": "code",
   "execution_count": 1,
   "id": "59b21715",
   "metadata": {},
   "outputs": [],
   "source": [
    "import os\n",
    "from dotenv import load_dotenv\n",
    "from getpass import getpass\n",
    "\n",
    "# Load environment variables from .env file\n",
    "load_dotenv()\n",
    "\n",
    "# Get API base URL and model with default values\n",
    "OPENAI_MODEL = os.getenv(\"OPENAI_MODEL\", \"gpt-4o-mini\")\n",
    "OLLAMA_API_BASE = os.getenv(\"OLLAMA_API_BASE\", \"http://localhost:11434/v1\")\n",
    "OLLAMA_API_KEY = os.getenv(\"OLLAMA_API_KEY\", \"ollama\")\n",
    "OLLAMA_MODEL = os.getenv(\"OLLAMA_MODEL\", \"qwen2.5:7b\")\n",
    "\n",
    "# Set up OpenAI API configuration\n",
    "# Try to get API key from environment variables\n",
    "OPENAI_API_KEY = os.getenv(\"OPENAI_API_KEY\")\n",
    "# If not found, ask user to input it\n",
    "if not OPENAI_API_KEY:\n",
    "    OPENAI_API_KEY = getpass(\"Enter your OpenAI API key:\")\n",
    "\n",
    "from agents import OpenAIChatCompletionsModel, AsyncOpenAI\n",
    "\n",
    "gpt4om_model= OpenAIChatCompletionsModel(\n",
    "    model=\"gpt-4o-mini\",\n",
    "    openai_client=AsyncOpenAI(api_key=OPENAI_API_KEY),\n",
    ")\n",
    "\n",
    "qwen_model= OpenAIChatCompletionsModel(\n",
    "    model=\"qwen2.5:7b\",\n",
    "    openai_client=AsyncOpenAI(base_url=OLLAMA_API_BASE,api_key=OLLAMA_API_KEY),\n",
    ")\n",
    "\n",
    "import json\n",
    "from agents import function_tool\n",
    "\n",
    "def get_form_schema() -> list:\n",
    "    \"\"\"Get the schema definition of the form data\"\"\"\n",
    "    return [\n",
    "        {\n",
    "            \"name\": \"username\",\n",
    "            \"type\": \"string\",\n",
    "            \"required\": True,\n",
    "            \"description\": \"User name, between 3 and 20 characters long\",\n",
    "            \"value\": None,\n",
    "        },\n",
    "        {\n",
    "            \"name\": \"age\",\n",
    "            \"type\": \"number\",\n",
    "            \"required\": False,\n",
    "            \"description\": \"Age, please enter a positive integer\",\n",
    "            \"value\": None,\n",
    "        },\n",
    "        {\n",
    "            \"name\": \"email\",\n",
    "            \"type\": \"string\",\n",
    "            \"required\": True,\n",
    "            \"description\": \"Email address to receive notifications\",\n",
    "            \"value\": None,\n",
    "        }\n",
    "    ]\n",
    "\n",
    "def ensure_form_file_exists(file_path: str) -> bool:\n",
    "    \"\"\"\n",
    "    Ensure the form data file exists, create it if it doesn't\n",
    "    \"\"\"\n",
    "    try:\n",
    "        if not os.path.exists(file_path):\n",
    "            print(f\"Form data file does not exist: {file_path}, creating new file\")\n",
    "            # Ensure directory exists\n",
    "            os.makedirs(os.path.dirname(file_path), exist_ok=True)\n",
    "            # Create empty form data\n",
    "            empty_form_data = get_form_schema()\n",
    "            # Write empty data to file\n",
    "            with open(file_path, 'w', encoding='utf-8') as f:\n",
    "                json.dump(empty_form_data, f, ensure_ascii=False, indent=2)\n",
    "        return True\n",
    "    except Exception as e:\n",
    "        print(f\"Error creating form data file: {e}\")\n",
    "        return False\n",
    "\n",
    "@function_tool\n",
    "def get_form_data_tool() -> str:\n",
    "    \"\"\"\n",
    "    Read the form data filled by the user\n",
    "    \"\"\"\n",
    "    file_path = \"./form_data.json\"\n",
    "    try:\n",
    "        if not ensure_form_file_exists(file_path):\n",
    "            return get_form_schema()\n",
    "\n",
    "        with open(file_path, 'r', encoding='utf-8') as f:\n",
    "            form_data = json.load(f)\n",
    "            return json.dumps(form_data, indent=2)\n",
    "            # return form_data\n",
    "    except json.JSONDecodeError:\n",
    "        return(f\"JSON format error: {file_path}\")\n",
    "    except Exception as e:\n",
    "        return(f\"Error reading form data: {e}\")\n",
    "\n",
    "@function_tool\n",
    "def update_form_field_tool(field_name:str, field_value: str|int|float) -> str:\n",
    "    \"\"\"\n",
    "    Update a field in the form data\n",
    "\n",
    "    Args:\n",
    "        field_name (str): Form field name\n",
    "        field_value (str): Form field value\n",
    "    \n",
    "    Returns:\n",
    "        Updated form data\n",
    "    \"\"\"\n",
    "    file_path = \"./form_data.json\"\n",
    "    try:\n",
    "        # Ensure file exists\n",
    "        if not ensure_form_file_exists(file_path):\n",
    "            return\n",
    "            \n",
    "        with open(file_path, 'r+', encoding='utf-8') as f:\n",
    "            form_data = json.load(f)\n",
    "            # Find the field to update\n",
    "            for field in form_data:\n",
    "                if field['name'] == field_name:\n",
    "                    # Convert value according to field type\n",
    "                    if field['type'] == 'number':\n",
    "                        try:\n",
    "                            field['value'] = int(field_value)\n",
    "                        except ValueError:\n",
    "                            try:\n",
    "                                field['value'] = float(field_value)\n",
    "                            except ValueError:\n",
    "                                return(f\"Warning: Cannot convert '{field_value}' to number type, keeping original string\")\n",
    "                                # field['value'] = field_value\n",
    "                    else:  # string or other types\n",
    "                        field['value'] = field_value\n",
    "                    break\n",
    "            f.seek(0)\n",
    "            json.dump(form_data, f, ensure_ascii=False, indent=2)\n",
    "            f.truncate()\n",
    "        return f\"Form data update successful: {field_name} = {field_value}\"\n",
    "    except Exception as e:\n",
    "        return(f\"Error updating form data: {e}\")"
   ]
  },
  {
   "cell_type": "code",
   "execution_count": 2,
   "id": "a7edc8dc",
   "metadata": {},
   "outputs": [],
   "source": [
    "from agents import Agent\n",
    "\n",
    "form_agent = Agent(\n",
    "    name=\"Form Assistant\",\n",
    "    instructions=\"You are an assistant helping users fill out form data. Please query and update form data based on user input.\",\n",
    "    tools=[\n",
    "        get_form_data_tool,\n",
    "        update_form_field_tool\n",
    "    ],\n",
    "    model=qwen_model,\n",
    "    # model=gpt4om_model,\n",
    ")"
   ]
  },
  {
   "cell_type": "code",
   "execution_count": 4,
   "id": "5b0eb602",
   "metadata": {},
   "outputs": [],
   "source": [
    "from agents import Runner, RunResultStreaming\n",
    "from openai.types.responses import (\n",
    "    ResponseTextDeltaEvent,\n",
    "    ResponseFunctionCallArgumentsDeltaEvent,\n",
    ")\n",
    "\n",
    "async def show_streaming_response(\n",
    "    response: RunResultStreaming,\n",
    "    verbose: bool = False,\n",
    ") -> None:\n",
    "    async for event in response.stream_events():\n",
    "        # print(f'\\n{event.type}')\n",
    "        # print(event)\n",
    "        if event.type == \"raw_response_event\": \n",
    "            if isinstance(event.data, ResponseFunctionCallArgumentsDeltaEvent) and verbose:\n",
    "                # this is streamed parameters for our tool call\n",
    "                print(event.data.delta, end=\"\", flush=True)\n",
    "            elif isinstance(event.data, ResponseTextDeltaEvent):\n",
    "                # this is streamed final answer tokens\n",
    "                print(event.data.delta, end=\"\", flush=True)\n",
    "        elif event.type == \"agent_updated_stream_event\" and verbose:\n",
    "            # this tells us which agent is currently in use\n",
    "            print(f\"> Current Agent: {event.new_agent.name}\")\n",
    "        elif event.type == \"run_item_stream_event\" and verbose:\n",
    "            # these are events containing info that we'd typically\n",
    "            # stream out to a user or some downstream process\n",
    "            if event.name == \"tool_called\":\n",
    "                # this is the collection of our _full_ tool call after our tool\n",
    "                # tokens have all been streamed\n",
    "                print()\n",
    "                print(f\"> Tool Called, name: {event.item.raw_item.name}\")\n",
    "                print(f\"> Tool Called, args: {event.item.raw_item.arguments}\")\n",
    "            elif event.name == \"tool_output\":\n",
    "                # this is the response from our tool execution\n",
    "                print(f\"> Tool Output: {event.item.raw_item['output']}\")\n",
    "        elif verbose:\n",
    "            print(f\"Unknown event type: {event.type}\", type(event).__name__)\n",
    "            print(event)\n",
    "\n",
    "async def handle_customer_query(query: str) -> None:\n",
    "    response = Runner.run_streamed(form_agent,query)\n",
    "    await show_streaming_response(response)"
   ]
  },
  {
   "cell_type": "code",
   "execution_count": 6,
   "id": "f5aeb407",
   "metadata": {},
   "outputs": [
    {
     "name": "stdout",
     "output_type": "stream",
     "text": [
      "Here is the current form data:\n",
      "\n",
      "- Username: new_username (3 to 20 characters required)\n",
      "- Age: Not provided\n",
      "- Email: abc@abc.com"
     ]
    }
   ],
   "source": [
    "await handle_customer_query(\"Please show all the form data\")"
   ]
  },
  {
   "cell_type": "code",
   "execution_count": 7,
   "id": "ded238c4",
   "metadata": {},
   "outputs": [
    {
     "name": "stdout",
     "output_type": "stream",
     "text": [
      "The required fields and their current values are as follows:\n",
      "\n",
      "- **Username**: `new_username` (3-20 characters)\n",
      "- **Email**: `abc@abc.com` (used for receiving notifications) \n",
      "\n",
      "Please note that the Age field is optional and currently has no value entered. If you need any further assistance or have changes to make, let me know!"
     ]
    }
   ],
   "source": [
    "await handle_customer_query(\"What fields are required? Help me list all the required fields and current values\")"
   ]
  },
  {
   "cell_type": "code",
   "execution_count": 8,
   "id": "49f97b3c",
   "metadata": {},
   "outputs": [
    {
     "name": "stdout",
     "output_type": "stream",
     "text": [
      "The age has been successfully updated to 27.7777 in the form data."
     ]
    }
   ],
   "source": [
    "await handle_customer_query(\"Set Age to 27.7777\")"
   ]
  },
  {
   "cell_type": "code",
   "execution_count": 9,
   "id": "8d883238",
   "metadata": {},
   "outputs": [
    {
     "name": "stdout",
     "output_type": "stream",
     "text": [
      "Based on the form data you've filled out, it seems that you haven't provided an age. The username and email fields have been filled correctly. Please provide your age so we can complete the form."
     ]
    }
   ],
   "source": [
    "await handle_customer_query(\"what felds I didn't fill out?\")"
   ]
  }
 ],
 "metadata": {
  "kernelspec": {
   "display_name": ".venv",
   "language": "python",
   "name": "python3"
  },
  "language_info": {
   "codemirror_mode": {
    "name": "ipython",
    "version": 3
   },
   "file_extension": ".py",
   "mimetype": "text/x-python",
   "name": "python",
   "nbconvert_exporter": "python",
   "pygments_lexer": "ipython3",
   "version": "3.12.8"
  }
 },
 "nbformat": 4,
 "nbformat_minor": 5
}
