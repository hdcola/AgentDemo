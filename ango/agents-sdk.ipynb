{
 "cells": [
  {
   "cell_type": "markdown",
   "metadata": {},
   "source": [
    "# Agno Agents SDK Demo\n",
    "\n",
    "[Agno](https://docs.agno.com/introduction) is a lightweight library for building Multimodal Agents.\n",
    "\n",
    "Install the dependencies library:"
   ]
  },
  {
   "cell_type": "code",
   "execution_count": 1,
   "metadata": {},
   "outputs": [
    {
     "name": "stdout",
     "output_type": "stream",
     "text": [
      "Note: you may need to restart the kernel to use updated packages.\n"
     ]
    }
   ],
   "source": [
    "%pip install -qU agno==1.2.7 python-dotenv ipywidgets"
   ]
  },
  {
   "cell_type": "markdown",
   "metadata": {},
   "source": [
    "## Setup LLM and Agent\n",
    "\n",
    "Set up the LLM and Agent with the following code:"
   ]
  },
  {
   "cell_type": "code",
   "execution_count": 2,
   "metadata": {},
   "outputs": [
    {
     "data": {
      "text/plain": [
       "'qwen2.5:7b'"
      ]
     },
     "execution_count": 2,
     "metadata": {},
     "output_type": "execute_result"
    }
   ],
   "source": [
    "import os\n",
    "from dotenv import load_dotenv\n",
    "from getpass import getpass\n",
    "\n",
    "# Load environment variables from .env file\n",
    "load_dotenv()\n",
    "\n",
    "# Get API base URL and model with default values\n",
    "OPENAI_API_BASE = os.getenv(\"OPENAI_API_BASE\", \"https://api.openai.com/v1\")\n",
    "OPENAI_MODEL = os.getenv(\"OPENAI_MODEL\", \"gpt-4o\")\n",
    "\n",
    "# Set up OpenAI API configuration\n",
    "# Try to get API key from environment variables\n",
    "OPENAI_API_KEY = os.getenv(\"OPENAI_API_KEY\")\n",
    "# If not found, ask user to input it\n",
    "if not OPENAI_API_KEY:\n",
    "    OPENAI_API_KEY = getpass(\"Enter your OpenAI API key:\")\n",
    "\n",
    "OPENAI_MODEL"
   ]
  },
  {
   "cell_type": "markdown",
   "metadata": {},
   "source": [
    "Set up an agent:"
   ]
  },
  {
   "cell_type": "code",
   "execution_count": 3,
   "metadata": {},
   "outputs": [],
   "source": [
    "from typing import Iterator\n",
    "from agno.agent import Agent, RunResponse\n",
    "from agno.models.openai import OpenAIChat\n",
    "from agno.utils.pprint import pprint_run_response\n",
    "\n",
    "model = OpenAIChat(\n",
    "    id=OPENAI_MODEL,\n",
    "    api_key=OPENAI_API_KEY,\n",
    "    base_url=OPENAI_API_BASE\n",
    ")\n",
    "\n",
    "agent = Agent(\n",
    "    model=model,\n",
    "    description=\"You're a helpful assistant.\",\n",
    "    name=\"Assistant\",\n",
    "    markdown=True,\n",
    ")"
   ]
  },
  {
   "cell_type": "markdown",
   "metadata": {},
   "source": [
    "## Running an Agent\n",
    "\n",
    "If you want to simply run an agent, you can use the agent's print_response method, pass in a prompt, and set stream=True to quickly see the returned results:"
   ]
  },
  {
   "cell_type": "code",
   "execution_count": 4,
   "metadata": {},
   "outputs": [
    {
     "data": {
      "application/vnd.jupyter.widget-view+json": {
       "model_id": "c46b441069294213b0e51e15cecad4f3",
       "version_major": 2,
       "version_minor": 0
      },
      "text/plain": [
       "Output()"
      ]
     },
     "metadata": {},
     "output_type": "display_data"
    },
    {
     "data": {
      "text/html": [
       "<pre style=\"white-space:pre;overflow-x:auto;line-height:normal;font-family:Menlo,'DejaVu Sans Mono',consolas,'Courier New',monospace\"></pre>\n"
      ],
      "text/plain": []
     },
     "metadata": {},
     "output_type": "display_data"
    }
   ],
   "source": [
    "agent.print_response(\"Tell me a short story\", stream=True)"
   ]
  },
  {
   "cell_type": "markdown",
   "metadata": {},
   "source": [
    "You can use the `Agent.run()` method to run an agent and return a `RunResponse` object or a streaming `RunResponse` object.\n"
   ]
  },
  {
   "cell_type": "code",
   "execution_count": 5,
   "metadata": {},
   "outputs": [
    {
     "data": {
      "application/vnd.jupyter.widget-view+json": {
       "model_id": "5d99b0e5a44446e4b1719a8448a1af30",
       "version_major": 2,
       "version_minor": 0
      },
      "text/plain": [
       "Output()"
      ]
     },
     "metadata": {},
     "output_type": "display_data"
    },
    {
     "data": {
      "text/html": [
       "<pre style=\"white-space:pre;overflow-x:auto;line-height:normal;font-family:Menlo,'DejaVu Sans Mono',consolas,'Courier New',monospace\"></pre>\n"
      ],
      "text/plain": []
     },
     "metadata": {},
     "output_type": "display_data"
    }
   ],
   "source": [
    "response: RunResponse = agent.run(\"Tell me a short story\")\n",
    "pprint_run_response(response, markdown=True)"
   ]
  },
  {
   "cell_type": "code",
   "execution_count": 6,
   "metadata": {},
   "outputs": [
    {
     "data": {
      "application/vnd.jupyter.widget-view+json": {
       "model_id": "217dfb5769224fb4944614f7d005239d",
       "version_major": 2,
       "version_minor": 0
      },
      "text/plain": [
       "Output()"
      ]
     },
     "metadata": {},
     "output_type": "display_data"
    },
    {
     "data": {
      "text/html": [
       "<pre style=\"white-space:pre;overflow-x:auto;line-height:normal;font-family:Menlo,'DejaVu Sans Mono',consolas,'Courier New',monospace\"></pre>\n"
      ],
      "text/plain": []
     },
     "metadata": {},
     "output_type": "display_data"
    }
   ],
   "source": [
    "response_stream: Iterator[RunResponse] = agent.run(\"Tell me a short story\", stream=True)\n",
    "pprint_run_response(response_stream, markdown=True)"
   ]
  },
  {
   "cell_type": "markdown",
   "metadata": {},
   "source": [
    "## Tools\n",
    "\n",
    "### Function tools\n",
    "\n",
    "Agno's can easily use Python functions as tools, below we define a set of function tools for Agent to use:"
   ]
  },
  {
   "cell_type": "code",
   "execution_count": null,
   "metadata": {},
   "outputs": [],
   "source": [
    "def add_tool(x: float, y: float) -> str:\n",
    "    \"\"\"\n",
    "    Add X and Y to get the exact result.\n",
    "\n",
    "    Args:\n",
    "        x (float): First number.\n",
    "        y (float): Second number.\n",
    "\n",
    "    Returns:\n",
    "        str: The sum of X and Y.\n",
    "    \"\"\"\n",
    "    return str(x + y)\n",
    "\n",
    "def subtract_tool(x: float, y: float) -> str:\n",
    "    \"\"\"\n",
    "    Subtract Y from X to get the exact result.\n",
    "\n",
    "    Args:\n",
    "        x (float): First number.\n",
    "        y (float): Second number.\n",
    "\n",
    "    Returns:\n",
    "        str: The difference of X and Y.\n",
    "    \"\"\"\n",
    "    return str(x - y)\n",
    "\n",
    "def multiply_tool(x: float, y: float) -> str:\n",
    "    \"\"\"\n",
    "    Multiply X and Y to get the exact result.\n",
    "\n",
    "    Args:\n",
    "        x (float): First number.\n",
    "        y (float): Second number.\n",
    "\n",
    "    Returns:\n",
    "        str: The product of X and Y.\n",
    "    \"\"\"\n",
    "    return str(x * y)\n",
    "\n",
    "def divide_tool(x: float, y: float) -> str:\n",
    "    \"\"\"\n",
    "    Divide X by Y to get the exact result.\n",
    "\n",
    "    Args:\n",
    "        x (float): First number.\n",
    "        y (float): Second number.\n",
    "\n",
    "    Returns:\n",
    "        str: The quotient of X and Y.\n",
    "    \"\"\"\n",
    "    return str(x / y)"
   ]
  },
  {
   "cell_type": "markdown",
   "metadata": {},
   "source": [
    "## Agent with tools\n"
   ]
  },
  {
   "cell_type": "code",
   "execution_count": 8,
   "metadata": {},
   "outputs": [
    {
     "data": {
      "application/vnd.jupyter.widget-view+json": {
       "model_id": "2a253b4a414342bfbc80e47f34bd6dfa",
       "version_major": 2,
       "version_minor": 0
      },
      "text/plain": [
       "Output()"
      ]
     },
     "metadata": {},
     "output_type": "display_data"
    },
    {
     "data": {
      "text/html": [
       "<pre style=\"white-space:pre;overflow-x:auto;line-height:normal;font-family:Menlo,'DejaVu Sans Mono',consolas,'Courier New',monospace\"></pre>\n"
      ],
      "text/plain": []
     },
     "metadata": {},
     "output_type": "display_data"
    }
   ],
   "source": [
    "add_agent = Agent(\n",
    "    model=model,\n",
    "    description=\"You're a helpful assistant.\",\n",
    "    name=\"Assistant\",\n",
    "    markdown=True,\n",
    "    tools=[\n",
    "        add_tool\n",
    "    ],\n",
    "    show_tool_calls=True,\n",
    "    # debug_mode=True\n",
    ")\n",
    "\n",
    "add_agent.print_response(\"What is 1.99 + 2.23?\",stream=True)\n"
   ]
  },
  {
   "cell_type": "markdown",
   "metadata": {},
   "source": [
    "## Conversational Agent"
   ]
  },
  {
   "cell_type": "code",
   "execution_count": 9,
   "metadata": {},
   "outputs": [
    {
     "data": {
      "application/vnd.jupyter.widget-view+json": {
       "model_id": "ecd5d7f87e054f5d9a05be0dc2666b70",
       "version_major": 2,
       "version_minor": 0
      },
      "text/plain": [
       "Output()"
      ]
     },
     "metadata": {},
     "output_type": "display_data"
    },
    {
     "data": {
      "text/html": [
       "<pre style=\"white-space:pre;overflow-x:auto;line-height:normal;font-family:Menlo,'DejaVu Sans Mono',consolas,'Courier New',monospace\"></pre>\n"
      ],
      "text/plain": []
     },
     "metadata": {},
     "output_type": "display_data"
    },
    {
     "data": {
      "application/vnd.jupyter.widget-view+json": {
       "model_id": "a83b8681582f4c6b92b79b7848994545",
       "version_major": 2,
       "version_minor": 0
      },
      "text/plain": [
       "Output()"
      ]
     },
     "metadata": {},
     "output_type": "display_data"
    },
    {
     "data": {
      "text/html": [
       "<pre style=\"white-space:pre;overflow-x:auto;line-height:normal;font-family:Menlo,'DejaVu Sans Mono',consolas,'Courier New',monospace\"></pre>\n"
      ],
      "text/plain": []
     },
     "metadata": {},
     "output_type": "display_data"
    }
   ],
   "source": [
    "add_agent = Agent(\n",
    "    model=model,\n",
    "    description=\"You're a helpful assistant.\",\n",
    "    name=\"Assistant\",\n",
    "    markdown=True,\n",
    "    tools=[\n",
    "        add_tool\n",
    "    ],\n",
    "    # Set add_history_to_messages=true to add the previous chat history to the messages sent to the Model.\n",
    "    add_history_to_messages=True,\n",
    "    #     # Number of historical responses to add to the messages.\n",
    "    num_history_responses=5,\n",
    "    show_tool_calls=True,\n",
    ")\n",
    "\n",
    "add_agent.print_response(\"What is 1.99 + 2.23?\",stream=True)\n",
    "add_agent.print_response(\"Add the last number by 103.892\",stream=True)"
   ]
  },
  {
   "cell_type": "markdown",
   "metadata": {},
   "source": [
    "## Multi-Agent\n",
    "\n",
    "### Define all agents"
   ]
  },
  {
   "cell_type": "code",
   "execution_count": 10,
   "metadata": {},
   "outputs": [],
   "source": [
    "add_agent = Agent(\n",
    "    model=model,\n",
    "    role=\"You only do the addition.\",\n",
    "    name=\"Add Agent\",\n",
    "    tools=[\n",
    "        add_tool\n",
    "    ],\n",
    ")\n",
    "\n",
    "multiply_agent = Agent(\n",
    "    model=model,\n",
    "    role=\"You only do the multiplication.\",\n",
    "    name=\"Multiply Agent\",\n",
    "    tools=[\n",
    "        multiply_tool\n",
    "    ],\n",
    ")\n",
    "\n",
    "subtract_agent = Agent(\n",
    "    model=model,\n",
    "    role=\"You just do the subtraction.\",\n",
    "    name=\"Subtract Agent\",\n",
    "    tools=[\n",
    "        subtract_tool\n",
    "    ],\n",
    ")\n",
    "\n",
    "divide_agent = Agent(\n",
    "    model=model,\n",
    "    role=\"You just do the division.\",\n",
    "    name=\"Divide Agent\",\n",
    "    tools=[\n",
    "        divide_tool\n",
    "    ],\n",
    ")\n"
   ]
  },
  {
   "cell_type": "markdown",
   "metadata": {},
   "source": [
    "### Define a team"
   ]
  },
  {
   "cell_type": "code",
   "execution_count": 11,
   "metadata": {},
   "outputs": [
    {
     "name": "stdout",
     "output_type": "stream",
     "text": [
      "[RunResponse] [RunResponse] "
     ]
    },
    {
     "data": {
      "text/html": [
       "<pre style=\"white-space:pre;overflow-x:auto;line-height:normal;font-family:Menlo,'DejaVu Sans Mono',consolas,'Courier New',monospace\"><span style=\"color: #800000; text-decoration-color: #800000; font-weight: bold\">ERROR   </span> Function calculate_expression not found                                                                   \n",
       "</pre>\n"
      ],
      "text/plain": [
       "\u001b[1;31mERROR   \u001b[0m Function calculate_expression not found                                                                   \n"
      ]
     },
     "metadata": {},
     "output_type": "display_data"
    },
    {
     "name": "stdout",
     "output_type": "stream",
     "text": [
      "[RunResponse] It seems there was an error since the available functions provided do not include a calculation function. However, I can calculate this expression for you directly.\n",
      "\n",
      "The expression is: 1.99 + 12.23 / 2.17\n",
      "\n",
      "First, we need to follow the order of operations (PEMDAS/BODMAS), which means we perform division before addition. So let's compute it.\n",
      " Calculation: 12.23 / 2.17 + 1.99\n",
      "Result: 6.581457417270332 + 1.99 = 8.571457417270332\n",
      "\n",
      "Therefore, the result of 1.99 + 12.23 / 2.17 is approximately 8.57 (rounded to two decimal places)."
     ]
    }
   ],
   "source": [
    "from agno.team.team import Team\n",
    "\n",
    "calculators_team = Team(\n",
    "    name=\"Calculators Team\",\n",
    "    mode=\"coordinate\",\n",
    "    model=model,\n",
    "    members=[\n",
    "        add_agent,\n",
    "        multiply_agent,\n",
    "        subtract_agent,\n",
    "        divide_agent\n",
    "    ],\n",
    "    enable_agentic_context=True,\n",
    "    show_tool_calls=True,\n",
    "    markdown=True,\n",
    "    show_members_responses=True,\n",
    "    description=\"You are a calculator responsible for breaking down the equation into addition, subtraction, multiplication and division, allowing different and use Agents to collaborate on the final result.\",\n",
    "    instructions=[\n",
    "        \"\"\n",
    "    ],\n",
    ")\n",
    "\n",
    "# calculators_team.print_response(\"What is 1.99+12.23/2.17\", stream=True)\n",
    "\n",
    "async for chunk in await calculators_team.arun(\"What is 1.99+12.23/2.17\", stream=True):\n",
    "    \n",
    "    print(f\"[{chunk.event}]\",chunk.content, end=\"\", flush=True)\n",
    "\n",
    "# r = calculators_team.run(\"What is 1.99+2.23/2\", stream=True, stream_intermediate_steps=True)\n",
    "# for i in r:\n",
    "#     tools = i.tools or []\n",
    "#     print(f\"[Event: {i.event}], Tools: {[t['tool_name'] for t in tools]}, content: {i.content}\")"
   ]
  },
  {
   "cell_type": "markdown",
   "metadata": {},
   "source": [
    "Since it doesn't seem to execute the Agent correctly in multi-agent mode, here it is for now."
   ]
  }
 ],
 "metadata": {
  "kernelspec": {
   "display_name": ".venv",
   "language": "python",
   "name": "python3"
  },
  "language_info": {
   "codemirror_mode": {
    "name": "ipython",
    "version": 3
   },
   "file_extension": ".py",
   "mimetype": "text/x-python",
   "name": "python",
   "nbconvert_exporter": "python",
   "pygments_lexer": "ipython3",
   "version": "3.12.8"
  }
 },
 "nbformat": 4,
 "nbformat_minor": 2
}
