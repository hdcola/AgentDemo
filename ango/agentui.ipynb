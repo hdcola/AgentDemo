{
 "cells": [
  {
   "cell_type": "markdown",
   "id": "1b8930fa",
   "metadata": {},
   "source": [
    "# Agent UI\n",
    "\n",
    "## Installation\n",
    "\n",
    "```\n",
    "pnpm create create-agent-ui@latest\n",
    "cd agent-ui && pnpm install && pnpm run dev\n",
    "```\n"
   ]
  }
 ],
 "metadata": {
  "language_info": {
   "name": "python"
  }
 },
 "nbformat": 4,
 "nbformat_minor": 5
}
